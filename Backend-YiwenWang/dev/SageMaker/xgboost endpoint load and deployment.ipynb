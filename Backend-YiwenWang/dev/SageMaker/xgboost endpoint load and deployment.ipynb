{
 "cells": [
  {
   "cell_type": "markdown",
   "id": "03eb53f0",
   "metadata": {},
   "source": [
    "# The orginal scikit-learn model code used"
   ]
  },
  {
   "cell_type": "code",
   "execution_count": 32,
   "id": "23c1ac75",
   "metadata": {},
   "outputs": [],
   "source": [
    "import torch\n",
    "import pandas as pd\n",
    "from sklearn.metrics import accuracy_score\n",
    "from sklearn.model_selection import train_test_split\n",
    "import numpy as np\n",
    "from xgboost import XGBClassifier\n",
    "from sklearn.preprocessing import LabelEncoder"
   ]
  },
  {
   "cell_type": "code",
   "execution_count": 33,
   "id": "bdde3429-a688-4413-813c-eb1abe09c1f1",
   "metadata": {},
   "outputs": [
    {
     "name": "stdout",
     "output_type": "stream",
     "text": [
      "XGBClassifier(base_score=None, booster=None, callbacks=None,\n",
      "              colsample_bylevel=None, colsample_bynode=None,\n",
      "              colsample_bytree=None, early_stopping_rounds=None,\n",
      "              enable_categorical=False, eval_metric=None, feature_types=None,\n",
      "              gamma=None, gpu_id=None, grow_policy=None, importance_type=None,\n",
      "              interaction_constraints=None, learning_rate=0.1, max_bin=None,\n",
      "              max_cat_threshold=None, max_cat_to_onehot=None,\n",
      "              max_delta_step=None, max_depth=6, max_leaves=None,\n",
      "              min_child_weight=None, missing=nan, monotone_constraints=None,\n",
      "              n_estimators=10, n_jobs=None, num_parallel_tree=None,\n",
      "              objective='multi:softprob', predictor=None, ...)\n"
     ]
    }
   ],
   "source": [
    "model = torch.load('./trainedModel/xgboost.pt')\n",
    "print(model)"
   ]
  },
  {
   "cell_type": "code",
   "execution_count": 34,
   "id": "19e8d576-3219-48b4-9a52-14d42f8cca0f",
   "metadata": {},
   "outputs": [],
   "source": [
    "filepath = \"./data/iot23_test_2.csv\"\n",
    "df = pd.read_csv(filepath)"
   ]
  },
  {
   "cell_type": "code",
   "execution_count": 164,
   "id": "f79a50c4-11ca-4efb-b508-14318b1d0863",
   "metadata": {},
   "outputs": [
    {
     "name": "stdout",
     "output_type": "stream",
     "text": [
      "duration              0.0\n",
      "orig_bytes            0.0\n",
      "resp_bytes            0.0\n",
      "missed_bytes          0.0\n",
      "orig_pkts             1.0\n",
      "orig_ip_bytes        40.0\n",
      "resp_pkts             0.0\n",
      "resp_ip_bytes         0.0\n",
      "proto_icmp            0.0\n",
      "proto_tcp             1.0\n",
      "proto_udp             0.0\n",
      "conn_state_OTH        0.0\n",
      "conn_state_REJ        0.0\n",
      "conn_state_RSTO       0.0\n",
      "conn_state_RSTOS0     0.0\n",
      "conn_state_RSTR       0.0\n",
      "conn_state_RSTRH      0.0\n",
      "conn_state_S0         1.0\n",
      "conn_state_S1         0.0\n",
      "conn_state_S2         0.0\n",
      "conn_state_S3         0.0\n",
      "conn_state_SF         0.0\n",
      "conn_state_SH         0.0\n",
      "conn_state_SHR        0.0\n",
      "Name: 0, dtype: float64\n"
     ]
    }
   ],
   "source": [
    "X = df[['duration', 'orig_bytes', 'resp_bytes', 'missed_bytes', 'orig_pkts', 'orig_ip_bytes', 'resp_pkts', 'resp_ip_bytes', 'proto_icmp', 'proto_tcp', 'proto_udp', 'conn_state_OTH', 'conn_state_REJ', 'conn_state_RSTO', 'conn_state_RSTOS0', 'conn_state_RSTR', 'conn_state_RSTRH', 'conn_state_S0', 'conn_state_S1', 'conn_state_S2', 'conn_state_S3', 'conn_state_SF', 'conn_state_SH', 'conn_state_SHR']]\n",
    "Y = df['label']\n",
    "print(X.iloc[0])\n",
    "label_encoder = LabelEncoder()\n",
    "label_encoder = label_encoder.fit(Y)\n",
    "Y = label_encoder.transform(Y)"
   ]
  },
  {
   "cell_type": "code",
   "execution_count": 36,
   "id": "9d3ed49b-3bca-4b1c-87c2-2db2801bdc16",
   "metadata": {},
   "outputs": [
    {
     "name": "stdout",
     "output_type": "stream",
     "text": [
      "Test Accuracy: 75.72%\n"
     ]
    }
   ],
   "source": [
    "preds = model.predict(X)\n",
    "test_accuracy = accuracy_score(Y, preds)\n",
    "print(\"Test Accuracy: %.2f%%\" % (test_accuracy * 100.0))"
   ]
  },
  {
   "cell_type": "markdown",
   "id": "e0c0484e",
   "metadata": {},
   "source": [
    "# Save the trained model to the tar-zipped form"
   ]
  },
  {
   "cell_type": "code",
   "execution_count": 49,
   "id": "fe8dbcd9",
   "metadata": {},
   "outputs": [],
   "source": [
    "import os\n",
    "import boto3\n",
    "import re\n",
    "import json\n",
    "import sagemaker\n",
    "\n",
    "region = boto3.Session().region_name\n",
    "sagemaker_session = sagemaker.Session()\n",
    "role = get_execution_role()\n",
    "bucket = sagemaker.Session().default_bucket()"
   ]
  },
  {
   "cell_type": "code",
   "execution_count": 100,
   "id": "5e256947",
   "metadata": {},
   "outputs": [
    {
     "name": "stdout",
     "output_type": "stream",
     "text": [
      "local-xgboost-model\r\n"
     ]
    }
   ],
   "source": [
    "model_file_name = \"local-xgboost-model\"\n",
    "model.save_model(model_file_name)\n",
    "!tar czvf model.tar.gz $model_file_name"
   ]
  },
  {
   "cell_type": "markdown",
   "id": "11006941",
   "metadata": {},
   "source": [
    "upload the trained model to S3 bucket"
   ]
  },
  {
   "cell_type": "code",
   "execution_count": 101,
   "id": "62ee20cb",
   "metadata": {},
   "outputs": [],
   "source": [
    "prefix = \"sagemaker/DEMO-xgboost-byo\"\n",
    "bucket_path = \"https://s3-{}.amazonaws.com/{}\".format(region, bucket)\n",
    "fObj = open(\"model.tar.gz\", \"rb\")\n",
    "key = os.path.join(prefix, model_file_name, \"model.tar.gz\")\n",
    "boto3.Session().resource(\"s3\").Bucket(bucket).Object(key).upload_fileobj(fObj)"
   ]
  },
  {
   "cell_type": "markdown",
   "id": "19b3671c",
   "metadata": {},
   "source": [
    "# Set up Hosting for the model"
   ]
  },
  {
   "cell_type": "code",
   "execution_count": 102,
   "id": "6d1b79d4",
   "metadata": {},
   "outputs": [],
   "source": [
    "from sagemaker.amazon.amazon_estimator import get_image_uri\n",
    "container = sagemaker.image_uris.retrieve(\"xgboost\", region, \"1.5-1\")"
   ]
  },
  {
   "cell_type": "markdown",
   "id": "0285461e",
   "metadata": {},
   "source": [
    "## Upload the self-trained model to the container"
   ]
  },
  {
   "cell_type": "code",
   "execution_count": 103,
   "id": "55653c5c",
   "metadata": {},
   "outputs": [
    {
     "name": "stdout",
     "output_type": "stream",
     "text": [
      "https://s3-us-west-2.amazonaws.com/sagemaker-us-west-2-374296686743/sagemaker/DEMO-xgboost-byo/local-xgboost-model/model.tar.gz\n",
      "arn:aws:sagemaker:us-west-2:374296686743:model/local-xgboost-model2023-03-13-02-31-19\n"
     ]
    }
   ],
   "source": [
    "from time import gmtime, strftime\n",
    "\n",
    "model_name = model_file_name + strftime(\"%Y-%m-%d-%H-%M-%S\", gmtime())\n",
    "model_url = \"https://s3-{}.amazonaws.com/{}/{}\".format(region, bucket, key)\n",
    "sm_client = boto3.client(\"sagemaker\")\n",
    "\n",
    "print(model_url)\n",
    "\n",
    "primary_container = {\n",
    "    \"Image\": container,\n",
    "    \"ModelDataUrl\": model_url,\n",
    "}\n",
    "\n",
    "create_model_response2 = sm_client.create_model(\n",
    "    ModelName=model_name, ExecutionRoleArn=role, PrimaryContainer=primary_container\n",
    ")\n",
    "\n",
    "print(create_model_response2[\"ModelArn\"])"
   ]
  },
  {
   "cell_type": "markdown",
   "id": "140eb117",
   "metadata": {},
   "source": [
    "## Create endpoint Configuration"
   ]
  },
  {
   "cell_type": "code",
   "execution_count": 104,
   "id": "e8dd25fc",
   "metadata": {},
   "outputs": [
    {
     "name": "stdout",
     "output_type": "stream",
     "text": [
      "DEMO-XGBoostEndpointConfig-2023-03-13-02-31-46\n",
      "Endpoint Config Arn: arn:aws:sagemaker:us-west-2:374296686743:endpoint-config/demo-xgboostendpointconfig-2023-03-13-02-31-46\n"
     ]
    }
   ],
   "source": [
    "from time import gmtime, strftime\n",
    "\n",
    "endpoint_config_name = \"DEMO-XGBoostEndpointConfig-\" + strftime(\"%Y-%m-%d-%H-%M-%S\", gmtime())\n",
    "print(endpoint_config_name)\n",
    "create_endpoint_config_response = sm_client.create_endpoint_config(\n",
    "    EndpointConfigName=endpoint_config_name,\n",
    "    ProductionVariants=[\n",
    "        {\n",
    "            \"InstanceType\": \"ml.m4.xlarge\",\n",
    "            \"InitialInstanceCount\": 1,\n",
    "            \"InitialVariantWeight\": 1,\n",
    "            \"ModelName\": model_name,\n",
    "            \"VariantName\": \"AllTraffic\",\n",
    "        }\n",
    "    ],\n",
    ")\n",
    "\n",
    "print(\"Endpoint Config Arn: \" + create_endpoint_config_response[\"EndpointConfigArn\"])"
   ]
  },
  {
   "cell_type": "markdown",
   "id": "bf8196a0",
   "metadata": {},
   "source": [
    "## create the endpoint"
   ]
  },
  {
   "cell_type": "code",
   "execution_count": 105,
   "id": "f00b41aa",
   "metadata": {},
   "outputs": [
    {
     "name": "stdout",
     "output_type": "stream",
     "text": [
      "DEMO-XGBoostEndpoint-2023-03-13-02-31-50\n",
      "arn:aws:sagemaker:us-west-2:374296686743:endpoint/demo-xgboostendpoint-2023-03-13-02-31-50\n",
      "Status: Creating\n",
      "Status: Creating\n",
      "Status: Creating\n",
      "Status: Creating\n",
      "Status: InService\n",
      "Arn: arn:aws:sagemaker:us-west-2:374296686743:endpoint/demo-xgboostendpoint-2023-03-13-02-31-50\n",
      "Status: InService\n",
      "CPU times: user 70.8 ms, sys: 1.99 ms, total: 72.8 ms\n",
      "Wall time: 4min\n"
     ]
    }
   ],
   "source": [
    "%%time\n",
    "import time\n",
    "\n",
    "endpoint_name = \"DEMO-XGBoostEndpoint-\" + strftime(\"%Y-%m-%d-%H-%M-%S\", gmtime())\n",
    "print(endpoint_name)\n",
    "create_endpoint_response = sm_client.create_endpoint(\n",
    "    EndpointName=endpoint_name, EndpointConfigName=endpoint_config_name\n",
    ")\n",
    "print(create_endpoint_response[\"EndpointArn\"])\n",
    "\n",
    "resp = sm_client.describe_endpoint(EndpointName=endpoint_name)\n",
    "status = resp[\"EndpointStatus\"]\n",
    "print(\"Status: \" + status)\n",
    "\n",
    "while status == \"Creating\":\n",
    "    time.sleep(60)\n",
    "    resp = sm_client.describe_endpoint(EndpointName=endpoint_name)\n",
    "    status = resp[\"EndpointStatus\"]\n",
    "    print(\"Status: \" + status)\n",
    "\n",
    "print(\"Arn: \" + resp[\"EndpointArn\"])\n",
    "print(\"Status: \" + status)"
   ]
  },
  {
   "cell_type": "markdown",
   "id": "7360dd07",
   "metadata": {},
   "source": [
    "## Check the ready-to-use model"
   ]
  },
  {
   "cell_type": "code",
   "execution_count": 125,
   "id": "d582944c",
   "metadata": {},
   "outputs": [],
   "source": [
    "runtime_client = boto3.client(\"runtime.sagemaker\")"
   ]
  },
  {
   "cell_type": "code",
   "execution_count": 161,
   "id": "954e99c6",
   "metadata": {},
   "outputs": [],
   "source": [
    "POINT_INDEX = 0\n",
    "point_x = X.iloc[0:1]\n",
    "np.savetxt(\"./data/test_point.csv\", point_x, delimiter=\",\")"
   ]
  },
  {
   "cell_type": "code",
   "execution_count": 162,
   "id": "fe4ad148",
   "metadata": {},
   "outputs": [
    {
     "name": "stdout",
     "output_type": "stream",
     "text": [
      "0.18077495694160461,0.12932561337947845,0.4295567572116852,0.26034262776374817\n",
      "\n"
     ]
    }
   ],
   "source": [
    "import json\n",
    "\n",
    "file_name = (\n",
    "    \"./data/test_point.csv\" \n",
    ")\n",
    "\n",
    "with open(file_name, \"r\") as f:\n",
    "    payload = f.read().strip()\n",
    "\n",
    "response = runtime_client.invoke_endpoint(\n",
    "    EndpointName=endpoint_name, ContentType=\"text/csv\", Body=payload\n",
    ")\n",
    "result = response[\"Body\"].read().decode()\n",
    "\n",
    "print(result)"
   ]
  },
  {
   "cell_type": "code",
   "execution_count": 163,
   "id": "8e22e973",
   "metadata": {},
   "outputs": [
    {
     "name": "stdout",
     "output_type": "stream",
     "text": [
      "(4,)\n",
      "Predicted Class Label: 2.\n",
      "Actual Class Label: 2.\n"
     ]
    }
   ],
   "source": [
    "floatArr = np.fromstring(result, dtype=float, sep=',')\n",
    "# floatArr = np.array(result)\n",
    "print(floatArr.shape)\n",
    "predictedLabel = np.argmax(floatArr)\n",
    "print(\"Predicted Class Label: {}.\".format(predictedLabel))\n",
    "print(\"Actual Class Label: {}.\".format(Y[POINT_INDEX]))"
   ]
  },
  {
   "cell_type": "markdown",
   "id": "b01583b0",
   "metadata": {},
   "source": [
    "## Release Endpoint "
   ]
  },
  {
   "cell_type": "code",
   "execution_count": 165,
   "id": "fd4657b3",
   "metadata": {},
   "outputs": [
    {
     "data": {
      "text/plain": [
       "{'ResponseMetadata': {'RequestId': '937b4cef-06f1-4b63-abc6-e2085f0e3029',\n",
       "  'HTTPStatusCode': 200,\n",
       "  'HTTPHeaders': {'x-amzn-requestid': '937b4cef-06f1-4b63-abc6-e2085f0e3029',\n",
       "   'content-type': 'application/x-amz-json-1.1',\n",
       "   'content-length': '0',\n",
       "   'date': 'Mon, 13 Mar 2023 04:30:20 GMT'},\n",
       "  'RetryAttempts': 0}}"
      ]
     },
     "execution_count": 165,
     "metadata": {},
     "output_type": "execute_result"
    }
   ],
   "source": [
    "sm_client.delete_endpoint(EndpointName=endpoint_name)"
   ]
  }
 ],
 "metadata": {
  "kernelspec": {
   "display_name": "conda_pytorch_p39",
   "language": "python",
   "name": "conda_pytorch_p39"
  },
  "language_info": {
   "codemirror_mode": {
    "name": "ipython",
    "version": 3
   },
   "file_extension": ".py",
   "mimetype": "text/x-python",
   "name": "python",
   "nbconvert_exporter": "python",
   "pygments_lexer": "ipython3",
   "version": "3.9.15"
  }
 },
 "nbformat": 4,
 "nbformat_minor": 5
}
