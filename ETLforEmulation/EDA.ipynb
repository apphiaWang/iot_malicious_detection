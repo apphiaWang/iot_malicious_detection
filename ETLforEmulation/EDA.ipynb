{
 "cells": [
  {
   "cell_type": "code",
   "execution_count": 1,
   "metadata": {},
   "outputs": [],
   "source": [
    "import pandas as pd"
   ]
  },
  {
   "attachments": {},
   "cell_type": "markdown",
   "metadata": {},
   "source": [
    "## 34-1 subdataset of IoT23 Dataset\n",
    "+ The original data is in pcap format, and the data we used is processed by Zeek provided by Stratosphere Lab, and is shown in the following format.\n",
    "+ This part is for exploraton of the dataset.\n",
    "\n",
    "### Data format declearification\n",
    "The meaning of each field is given bellow:\\\n",
    "![Alt text](../paper/IoT-23-dataset-features-list-with-descriptions.png)\n",
    "\n",
    "### Different kinds of attack\n",
    "1. **Mirai**\n",
    "https://en.wikipedia.org/wiki/Mirai_(malware)\n",
    "Mirai contains 60 common default usernames and passwords, and tries to login to IoT devices. Once it succeed, it can infect the device with Mirai malware.\n",
    "Only slight sluggishness occur during functioning of infectted devices. But the infected devices can be used as part of a botnet in large-scale network attacks.\n",
    "2. **DDoS**\n",
    "https://en.wikipedia.org/wiki/Denial-of-service_attack\n",
    "Distributed-Denial-of-Service is analogous to a group of people crowding the entry door of a shop, making it hard for legitimate customers to enter, thus disrupting trade.\n",
    "\n",
    "### Preporcess done\n",
    "+ Protocal Type filed one-hot encoding\n",
    "+ connection state field one-hot encodin"
   ]
  },
  {
   "cell_type": "code",
   "execution_count": 2,
   "metadata": {},
   "outputs": [
    {
     "data": {
      "text/html": [
       "<div>\n",
       "<style scoped>\n",
       "    .dataframe tbody tr th:only-of-type {\n",
       "        vertical-align: middle;\n",
       "    }\n",
       "\n",
       "    .dataframe tbody tr th {\n",
       "        vertical-align: top;\n",
       "    }\n",
       "\n",
       "    .dataframe thead th {\n",
       "        text-align: right;\n",
       "    }\n",
       "</style>\n",
       "<table border=\"1\" class=\"dataframe\">\n",
       "  <thead>\n",
       "    <tr style=\"text-align: right;\">\n",
       "      <th></th>\n",
       "      <th>ts</th>\n",
       "      <th>uid</th>\n",
       "      <th>id.orig_h</th>\n",
       "      <th>id.orig_p</th>\n",
       "      <th>id.resp_h</th>\n",
       "      <th>id.resp_p</th>\n",
       "      <th>proto</th>\n",
       "      <th>service</th>\n",
       "      <th>duration</th>\n",
       "      <th>orig_bytes</th>\n",
       "      <th>...</th>\n",
       "      <th>conn_state</th>\n",
       "      <th>local_orig</th>\n",
       "      <th>local_resp</th>\n",
       "      <th>missed_bytes</th>\n",
       "      <th>history</th>\n",
       "      <th>orig_pkts</th>\n",
       "      <th>orig_ip_bytes</th>\n",
       "      <th>resp_pkts</th>\n",
       "      <th>resp_ip_bytes</th>\n",
       "      <th>label</th>\n",
       "    </tr>\n",
       "  </thead>\n",
       "  <tbody>\n",
       "    <tr>\n",
       "      <th>0</th>\n",
       "      <td>1545403848.981338</td>\n",
       "      <td>CDrkrSobGYxHhYfth</td>\n",
       "      <td>192.168.1.195</td>\n",
       "      <td>41040.0</td>\n",
       "      <td>185.244.25.235</td>\n",
       "      <td>80.0</td>\n",
       "      <td>tcp</td>\n",
       "      <td>http</td>\n",
       "      <td>1.477656</td>\n",
       "      <td>149</td>\n",
       "      <td>...</td>\n",
       "      <td>SF</td>\n",
       "      <td>-</td>\n",
       "      <td>-</td>\n",
       "      <td>2896.0</td>\n",
       "      <td>ShADadttcfF</td>\n",
       "      <td>94.0</td>\n",
       "      <td>5525.0</td>\n",
       "      <td>96.0</td>\n",
       "      <td>139044.0</td>\n",
       "      <td>-   Benign   -</td>\n",
       "    </tr>\n",
       "    <tr>\n",
       "      <th>1</th>\n",
       "      <td>1545403850.554283</td>\n",
       "      <td>CTWZQf2oJSvq6zmPAc</td>\n",
       "      <td>192.168.1.195</td>\n",
       "      <td>41042.0</td>\n",
       "      <td>185.244.25.235</td>\n",
       "      <td>80.0</td>\n",
       "      <td>tcp</td>\n",
       "      <td>-</td>\n",
       "      <td>3.147116</td>\n",
       "      <td>0</td>\n",
       "      <td>...</td>\n",
       "      <td>S0</td>\n",
       "      <td>-</td>\n",
       "      <td>-</td>\n",
       "      <td>0.0</td>\n",
       "      <td>S</td>\n",
       "      <td>3.0</td>\n",
       "      <td>180.0</td>\n",
       "      <td>0.0</td>\n",
       "      <td>0.0</td>\n",
       "      <td>-   Benign   -</td>\n",
       "    </tr>\n",
       "    <tr>\n",
       "      <th>2</th>\n",
       "      <td>1545403857.781320</td>\n",
       "      <td>CvyynC4Sabj9BNXFRi</td>\n",
       "      <td>192.168.1.195</td>\n",
       "      <td>41042.0</td>\n",
       "      <td>185.244.25.235</td>\n",
       "      <td>80.0</td>\n",
       "      <td>tcp</td>\n",
       "      <td>http</td>\n",
       "      <td>1.305004</td>\n",
       "      <td>151</td>\n",
       "      <td>...</td>\n",
       "      <td>SF</td>\n",
       "      <td>-</td>\n",
       "      <td>-</td>\n",
       "      <td>5792.0</td>\n",
       "      <td>ShADadttcfF</td>\n",
       "      <td>96.0</td>\n",
       "      <td>5699.0</td>\n",
       "      <td>92.0</td>\n",
       "      <td>133140.0</td>\n",
       "      <td>-   Benign   -</td>\n",
       "    </tr>\n",
       "    <tr>\n",
       "      <th>3</th>\n",
       "      <td>1545403859.183341</td>\n",
       "      <td>CWYyiA2sgRijwk2jEd</td>\n",
       "      <td>192.168.1.195</td>\n",
       "      <td>41044.0</td>\n",
       "      <td>185.244.25.235</td>\n",
       "      <td>80.0</td>\n",
       "      <td>tcp</td>\n",
       "      <td>http</td>\n",
       "      <td>1.004605</td>\n",
       "      <td>148</td>\n",
       "      <td>...</td>\n",
       "      <td>SF</td>\n",
       "      <td>-</td>\n",
       "      <td>-</td>\n",
       "      <td>2896.0</td>\n",
       "      <td>ShADadtcfF</td>\n",
       "      <td>67.0</td>\n",
       "      <td>4148.0</td>\n",
       "      <td>65.0</td>\n",
       "      <td>92453.0</td>\n",
       "      <td>-   Benign   -</td>\n",
       "    </tr>\n",
       "    <tr>\n",
       "      <th>4</th>\n",
       "      <td>1545403860.282392</td>\n",
       "      <td>CYttPy2pqOIcen7UDh</td>\n",
       "      <td>192.168.1.195</td>\n",
       "      <td>41046.0</td>\n",
       "      <td>185.244.25.235</td>\n",
       "      <td>80.0</td>\n",
       "      <td>tcp</td>\n",
       "      <td>http</td>\n",
       "      <td>4.129647</td>\n",
       "      <td>148</td>\n",
       "      <td>...</td>\n",
       "      <td>SF</td>\n",
       "      <td>-</td>\n",
       "      <td>-</td>\n",
       "      <td>5792.0</td>\n",
       "      <td>ShADadtcfF</td>\n",
       "      <td>75.0</td>\n",
       "      <td>4412.0</td>\n",
       "      <td>69.0</td>\n",
       "      <td>97107.0</td>\n",
       "      <td>-   Benign   -</td>\n",
       "    </tr>\n",
       "    <tr>\n",
       "      <th>...</th>\n",
       "      <td>...</td>\n",
       "      <td>...</td>\n",
       "      <td>...</td>\n",
       "      <td>...</td>\n",
       "      <td>...</td>\n",
       "      <td>...</td>\n",
       "      <td>...</td>\n",
       "      <td>...</td>\n",
       "      <td>...</td>\n",
       "      <td>...</td>\n",
       "      <td>...</td>\n",
       "      <td>...</td>\n",
       "      <td>...</td>\n",
       "      <td>...</td>\n",
       "      <td>...</td>\n",
       "      <td>...</td>\n",
       "      <td>...</td>\n",
       "      <td>...</td>\n",
       "      <td>...</td>\n",
       "      <td>...</td>\n",
       "      <td>...</td>\n",
       "    </tr>\n",
       "    <tr>\n",
       "      <th>23137</th>\n",
       "      <td>1545490133.961380</td>\n",
       "      <td>C2F17zSUnGOcWzBa7</td>\n",
       "      <td>192.168.1.195</td>\n",
       "      <td>57110.0</td>\n",
       "      <td>185.244.25.235</td>\n",
       "      <td>6667.0</td>\n",
       "      <td>tcp</td>\n",
       "      <td>irc</td>\n",
       "      <td>32.840994</td>\n",
       "      <td>62</td>\n",
       "      <td>...</td>\n",
       "      <td>S3</td>\n",
       "      <td>-</td>\n",
       "      <td>-</td>\n",
       "      <td>0.0</td>\n",
       "      <td>ShAdDaf</td>\n",
       "      <td>7.0</td>\n",
       "      <td>434.0</td>\n",
       "      <td>6.0</td>\n",
       "      <td>589.0</td>\n",
       "      <td>-   Malicious   C&amp;C</td>\n",
       "    </tr>\n",
       "    <tr>\n",
       "      <th>23138</th>\n",
       "      <td>1545489934.221598</td>\n",
       "      <td>C93P4z4k5IRJD1rXJg</td>\n",
       "      <td>192.168.1.195</td>\n",
       "      <td>57092.0</td>\n",
       "      <td>185.244.25.235</td>\n",
       "      <td>6667.0</td>\n",
       "      <td>tcp</td>\n",
       "      <td>irc</td>\n",
       "      <td>36.290833</td>\n",
       "      <td>62</td>\n",
       "      <td>...</td>\n",
       "      <td>S3</td>\n",
       "      <td>-</td>\n",
       "      <td>-</td>\n",
       "      <td>0.0</td>\n",
       "      <td>ShAdDaf</td>\n",
       "      <td>10.0</td>\n",
       "      <td>606.0</td>\n",
       "      <td>7.0</td>\n",
       "      <td>632.0</td>\n",
       "      <td>-   Malicious   C&amp;C</td>\n",
       "    </tr>\n",
       "    <tr>\n",
       "      <th>23139</th>\n",
       "      <td>1545490198.463564</td>\n",
       "      <td>CXLZ3A2QY5E8weqpDk</td>\n",
       "      <td>192.168.1.195</td>\n",
       "      <td>123.0</td>\n",
       "      <td>147.251.48.140</td>\n",
       "      <td>123.0</td>\n",
       "      <td>udp</td>\n",
       "      <td>-</td>\n",
       "      <td>-</td>\n",
       "      <td>-</td>\n",
       "      <td>...</td>\n",
       "      <td>S0</td>\n",
       "      <td>-</td>\n",
       "      <td>-</td>\n",
       "      <td>0.0</td>\n",
       "      <td>D</td>\n",
       "      <td>1.0</td>\n",
       "      <td>76.0</td>\n",
       "      <td>0.0</td>\n",
       "      <td>0.0</td>\n",
       "      <td>-   Benign   -</td>\n",
       "    </tr>\n",
       "    <tr>\n",
       "      <th>23140</th>\n",
       "      <td>1545490181.542213</td>\n",
       "      <td>CuXpFN3fWesWBXUhq1</td>\n",
       "      <td>192.168.1.195</td>\n",
       "      <td>123.0</td>\n",
       "      <td>82.113.53.40</td>\n",
       "      <td>123.0</td>\n",
       "      <td>udp</td>\n",
       "      <td>-</td>\n",
       "      <td>-</td>\n",
       "      <td>-</td>\n",
       "      <td>...</td>\n",
       "      <td>S0</td>\n",
       "      <td>-</td>\n",
       "      <td>-</td>\n",
       "      <td>0.0</td>\n",
       "      <td>D</td>\n",
       "      <td>1.0</td>\n",
       "      <td>76.0</td>\n",
       "      <td>0.0</td>\n",
       "      <td>0.0</td>\n",
       "      <td>-   Benign   -</td>\n",
       "    </tr>\n",
       "    <tr>\n",
       "      <th>23141</th>\n",
       "      <td>1545490198.459568</td>\n",
       "      <td>Ct2Yhy4d33oL3yyZY9</td>\n",
       "      <td>192.168.1.195</td>\n",
       "      <td>123.0</td>\n",
       "      <td>89.221.210.188</td>\n",
       "      <td>123.0</td>\n",
       "      <td>udp</td>\n",
       "      <td>-</td>\n",
       "      <td>-</td>\n",
       "      <td>-</td>\n",
       "      <td>...</td>\n",
       "      <td>S0</td>\n",
       "      <td>-</td>\n",
       "      <td>-</td>\n",
       "      <td>0.0</td>\n",
       "      <td>D</td>\n",
       "      <td>1.0</td>\n",
       "      <td>76.0</td>\n",
       "      <td>0.0</td>\n",
       "      <td>0.0</td>\n",
       "      <td>-   Benign   -</td>\n",
       "    </tr>\n",
       "  </tbody>\n",
       "</table>\n",
       "<p>23142 rows × 21 columns</p>\n",
       "</div>"
      ],
      "text/plain": [
       "                      ts                 uid      id.orig_h  id.orig_p  \\\n",
       "0      1545403848.981338   CDrkrSobGYxHhYfth  192.168.1.195    41040.0   \n",
       "1      1545403850.554283  CTWZQf2oJSvq6zmPAc  192.168.1.195    41042.0   \n",
       "2      1545403857.781320  CvyynC4Sabj9BNXFRi  192.168.1.195    41042.0   \n",
       "3      1545403859.183341  CWYyiA2sgRijwk2jEd  192.168.1.195    41044.0   \n",
       "4      1545403860.282392  CYttPy2pqOIcen7UDh  192.168.1.195    41046.0   \n",
       "...                  ...                 ...            ...        ...   \n",
       "23137  1545490133.961380   C2F17zSUnGOcWzBa7  192.168.1.195    57110.0   \n",
       "23138  1545489934.221598  C93P4z4k5IRJD1rXJg  192.168.1.195    57092.0   \n",
       "23139  1545490198.463564  CXLZ3A2QY5E8weqpDk  192.168.1.195      123.0   \n",
       "23140  1545490181.542213  CuXpFN3fWesWBXUhq1  192.168.1.195      123.0   \n",
       "23141  1545490198.459568  Ct2Yhy4d33oL3yyZY9  192.168.1.195      123.0   \n",
       "\n",
       "            id.resp_h  id.resp_p proto service   duration orig_bytes  ...  \\\n",
       "0      185.244.25.235       80.0   tcp    http   1.477656        149  ...   \n",
       "1      185.244.25.235       80.0   tcp       -   3.147116          0  ...   \n",
       "2      185.244.25.235       80.0   tcp    http   1.305004        151  ...   \n",
       "3      185.244.25.235       80.0   tcp    http   1.004605        148  ...   \n",
       "4      185.244.25.235       80.0   tcp    http   4.129647        148  ...   \n",
       "...               ...        ...   ...     ...        ...        ...  ...   \n",
       "23137  185.244.25.235     6667.0   tcp     irc  32.840994         62  ...   \n",
       "23138  185.244.25.235     6667.0   tcp     irc  36.290833         62  ...   \n",
       "23139  147.251.48.140      123.0   udp       -          -          -  ...   \n",
       "23140    82.113.53.40      123.0   udp       -          -          -  ...   \n",
       "23141  89.221.210.188      123.0   udp       -          -          -  ...   \n",
       "\n",
       "      conn_state local_orig local_resp missed_bytes      history orig_pkts  \\\n",
       "0             SF          -          -       2896.0  ShADadttcfF      94.0   \n",
       "1             S0          -          -          0.0            S       3.0   \n",
       "2             SF          -          -       5792.0  ShADadttcfF      96.0   \n",
       "3             SF          -          -       2896.0   ShADadtcfF      67.0   \n",
       "4             SF          -          -       5792.0   ShADadtcfF      75.0   \n",
       "...          ...        ...        ...          ...          ...       ...   \n",
       "23137         S3          -          -          0.0      ShAdDaf       7.0   \n",
       "23138         S3          -          -          0.0      ShAdDaf      10.0   \n",
       "23139         S0          -          -          0.0            D       1.0   \n",
       "23140         S0          -          -          0.0            D       1.0   \n",
       "23141         S0          -          -          0.0            D       1.0   \n",
       "\n",
       "       orig_ip_bytes  resp_pkts  resp_ip_bytes                label  \n",
       "0             5525.0       96.0       139044.0       -   Benign   -  \n",
       "1              180.0        0.0            0.0       -   Benign   -  \n",
       "2             5699.0       92.0       133140.0       -   Benign   -  \n",
       "3             4148.0       65.0        92453.0       -   Benign   -  \n",
       "4             4412.0       69.0        97107.0       -   Benign   -  \n",
       "...              ...        ...            ...                  ...  \n",
       "23137          434.0        6.0          589.0  -   Malicious   C&C  \n",
       "23138          606.0        7.0          632.0  -   Malicious   C&C  \n",
       "23139           76.0        0.0            0.0       -   Benign   -  \n",
       "23140           76.0        0.0            0.0       -   Benign   -  \n",
       "23141           76.0        0.0            0.0       -   Benign   -  \n",
       "\n",
       "[23142 rows x 21 columns]"
      ]
     },
     "execution_count": 2,
     "metadata": {},
     "output_type": "execute_result"
    }
   ],
   "source": [
    "capture_34 = \"conn.log.labeled\"\n",
    "\n",
    "df34 = pd.read_table(filepath_or_buffer=capture_34, skiprows=10, nrows=100000)\n",
    "df34.columns=['ts',\n",
    "              'uid',\n",
    "              'id.orig_h',\n",
    "              'id.orig_p',\n",
    "              'id.resp_h',\n",
    "              'id.resp_p',\n",
    "              'proto',\n",
    "              'service',\n",
    "              'duration',\n",
    "              'orig_bytes',\n",
    "              'resp_bytes',\n",
    "              'conn_state',\n",
    "              'local_orig',\n",
    "              'local_resp',\n",
    "              'missed_bytes',\n",
    "              'history',\n",
    "              'orig_pkts',\n",
    "              'orig_ip_bytes',\n",
    "              'resp_pkts',\n",
    "              'resp_ip_bytes',\n",
    "              'label']\n",
    "df34.drop(df34.tail(1).index,inplace=True)\n",
    "df34"
   ]
  },
  {
   "cell_type": "code",
   "execution_count": 3,
   "metadata": {},
   "outputs": [
    {
     "data": {
      "text/plain": [
       "-   Malicious   DDoS                         14394\n",
       "-   Malicious   C&C                           6706\n",
       "-   Benign   -                                1920\n",
       "-   Malicious   PartOfAHorizontalPortScan      122\n",
       "Name: label, dtype: int64"
      ]
     },
     "execution_count": 3,
     "metadata": {},
     "output_type": "execute_result"
    }
   ],
   "source": [
    "df34['label'].value_counts()"
   ]
  },
  {
   "cell_type": "code",
   "execution_count": 4,
   "metadata": {},
   "outputs": [
    {
     "name": "stdout",
     "output_type": "stream",
     "text": [
      "different IP addresses num:  49\n",
      "distribution of each IP address: \n"
     ]
    },
    {
     "data": {
      "text/plain": [
       "123.59.209.185     14260\n",
       "185.244.25.235      6768\n",
       "147.231.100.5        775\n",
       "192.168.1.1          194\n",
       "195.113.144.201      160\n",
       "82.113.53.40         154\n",
       "77.78.107.252        136\n",
       "71.61.66.148         133\n",
       "66.67.61.168         121\n",
       "81.2.248.189         119\n",
       "89.221.210.188       102\n",
       "50.50.50.53           41\n",
       "78.108.102.237        41\n",
       "37.187.104.44         32\n",
       "81.2.254.224          19\n",
       "147.251.48.140         7\n",
       "1.1.1.1                5\n",
       "89.221.214.130         5\n",
       "185.189.115.149        5\n",
       "89.221.212.46          5\n",
       "212.96.160.147         5\n",
       "194.182.80.233         4\n",
       "31.31.74.35            4\n",
       "83.167.252.118         4\n",
       "94.124.107.190         4\n",
       "46.28.109.26           4\n",
       "80.79.25.111           3\n",
       "5.1.56.123             3\n",
       "193.150.14.191         3\n",
       "82.113.53.36           3\n",
       "109.224.76.139         2\n",
       "217.30.75.147          2\n",
       "81.2.254.32            2\n",
       "81.0.208.219           2\n",
       "74.91.117.248          1\n",
       "195.21.137.209         1\n",
       "82.113.53.35           1\n",
       "146.0.32.144           1\n",
       "172.98.77.203          1\n",
       "136.243.177.133        1\n",
       "80.241.208.120         1\n",
       "192.168.1.195          1\n",
       "80.151.151.109         1\n",
       "104.238.179.228        1\n",
       "80.190.97.205          1\n",
       "89.239.10.102          1\n",
       "37.157.194.44          1\n",
       "81.200.57.13           1\n",
       "46.28.110.244          1\n",
       "Name: id.resp_h, dtype: int64"
      ]
     },
     "execution_count": 4,
     "metadata": {},
     "output_type": "execute_result"
    }
   ],
   "source": [
    "distribution = df34['id.resp_h'].value_counts()\n",
    "\n",
    "unique = df34['id.resp_h'].unique()\n",
    "print('different IP addresses num: ', len(unique))\n",
    "\n",
    "print('distribution of each IP address: ')\n",
    "distribution"
   ]
  },
  {
   "cell_type": "code",
   "execution_count": 5,
   "metadata": {},
   "outputs": [
    {
     "data": {
      "text/plain": [
       "80.0       14455\n",
       "6667.0      6706\n",
       "123.0       1618\n",
       "53.0         233\n",
       "63798.0      121\n",
       "1.0            4\n",
       "67.0           2\n",
       "22.0           1\n",
       "256.0          1\n",
       "5376.0         1\n",
       "Name: id.resp_p, dtype: int64"
      ]
     },
     "execution_count": 5,
     "metadata": {},
     "output_type": "execute_result"
    }
   ],
   "source": [
    "df34['id.resp_p'].value_counts()"
   ]
  },
  {
   "cell_type": "code",
   "execution_count": 6,
   "metadata": {},
   "outputs": [
    {
     "name": "stdout",
     "output_type": "stream",
     "text": [
      "different original IP num:  ['192.168.1.195']\n"
     ]
    }
   ],
   "source": [
    "some_IP_df = df34.loc[df34['id.resp_h']=='123.59.209.185']\n",
    "unique = some_IP_df['id.orig_h'].unique()\n",
    "print('different original IP num: ', unique)"
   ]
  },
  {
   "cell_type": "code",
   "execution_count": 7,
   "metadata": {},
   "outputs": [
    {
     "name": "stdout",
     "output_type": "stream",
     "text": [
      "different IP addresses num:  2\n",
      "distribution of each IP address: \n"
     ]
    },
    {
     "data": {
      "text/plain": [
       "192.168.1.195    23141\n",
       "192.168.1.1          1\n",
       "Name: id.orig_h, dtype: int64"
      ]
     },
     "execution_count": 7,
     "metadata": {},
     "output_type": "execute_result"
    }
   ],
   "source": [
    "distribution = df34['id.orig_h'].value_counts()\n",
    "\n",
    "unique = df34['id.orig_h'].unique()\n",
    "print('different IP addresses num: ', len(unique))\n",
    "\n",
    "print('distribution of each IP address: ')\n",
    "distribution"
   ]
  },
  {
   "attachments": {},
   "cell_type": "markdown",
   "metadata": {},
   "source": [
    "## The meaning of 'resp' and 'orig'\n",
    "+ In this subset of IoT23 data, almost all the attack are from the same IP adress 192.168.1.195 and another one is 192.168.1.1, which is basicallt the local gateway. This is fair enought because we can tell the anormally by simply identify the source IP address.\n",
    "+ There are nealy 50 responders in the same LAN in this dataset."
   ]
  },
  {
   "cell_type": "code",
   "execution_count": 8,
   "metadata": {},
   "outputs": [
    {
     "data": {
      "text/plain": [
       "-   Malicious   DDoS                         14394\n",
       "-   Malicious   C&C                           6706\n",
       "-   Benign   -                                1920\n",
       "-   Malicious   PartOfAHorizontalPortScan      122\n",
       "Name: label, dtype: int64"
      ]
     },
     "execution_count": 8,
     "metadata": {},
     "output_type": "execute_result"
    }
   ],
   "source": [
    "df34['label'].value_counts()"
   ]
  },
  {
   "cell_type": "code",
   "execution_count": 9,
   "metadata": {},
   "outputs": [],
   "source": [
    "#save the dataset for emulation deployment\n",
    "df34.to_csv('./connlog34.csv',header= True)"
   ]
  },
  {
   "attachments": {},
   "cell_type": "markdown",
   "metadata": {},
   "source": [
    "## Try to connect to the Redshift Cloud with my host bu failed."
   ]
  },
  {
   "cell_type": "code",
   "execution_count": 10,
   "metadata": {},
   "outputs": [],
   "source": [
    "import os\n",
    "import redshift_connector"
   ]
  },
  {
   "cell_type": "code",
   "execution_count": 11,
   "metadata": {},
   "outputs": [
    {
     "ename": "InterfaceError",
     "evalue": "('communication error', gaierror(11001, 'getaddrinfo failed'))",
     "output_type": "error",
     "traceback": [
      "\u001b[1;31m---------------------------------------------------------------------------\u001b[0m",
      "\u001b[1;31mgaierror\u001b[0m                                  Traceback (most recent call last)",
      "File \u001b[1;32md:\\Anacoda\\lib\\site-packages\\redshift_connector\\core.py:585\u001b[0m, in \u001b[0;36mConnection.__init__\u001b[1;34m(self, user, password, database, host, port, source_address, unix_sock, ssl, sslmode, timeout, max_prepared_statements, tcp_keepalive, application_name, replication, client_protocol_version, database_metadata_current_db_only, credentials_provider, provider_name, web_identity_token, numeric_to_float)\u001b[0m\n\u001b[0;32m    584\u001b[0m \u001b[39mif\u001b[39;00m unix_sock \u001b[39mis\u001b[39;00m \u001b[39mNone\u001b[39;00m \u001b[39mand\u001b[39;00m host \u001b[39mis\u001b[39;00m \u001b[39mnot\u001b[39;00m \u001b[39mNone\u001b[39;00m:\n\u001b[1;32m--> 585\u001b[0m     \u001b[39mself\u001b[39;49m\u001b[39m.\u001b[39;49m_usock\u001b[39m.\u001b[39;49mconnect((host, port))\n\u001b[0;32m    586\u001b[0m \u001b[39melif\u001b[39;00m unix_sock \u001b[39mis\u001b[39;00m \u001b[39mnot\u001b[39;00m \u001b[39mNone\u001b[39;00m:\n",
      "\u001b[1;31mgaierror\u001b[0m: [Errno 11001] getaddrinfo failed",
      "\nDuring handling of the above exception, another exception occurred:\n",
      "\u001b[1;31mInterfaceError\u001b[0m                            Traceback (most recent call last)",
      "Cell \u001b[1;32mIn[11], line 1\u001b[0m\n\u001b[1;32m----> 1\u001b[0m conn \u001b[39m=\u001b[39m redshift_connector\u001b[39m.\u001b[39;49mconnect(\n\u001b[0;32m      2\u001b[0m     host\u001b[39m=\u001b[39;49m\u001b[39m'\u001b[39;49m\u001b[39mmyhost.redshift.amazonaws.com\u001b[39;49m\u001b[39m'\u001b[39;49m,\n\u001b[0;32m      3\u001b[0m     port\u001b[39m=\u001b[39;49m\u001b[39m5439\u001b[39;49m,\n\u001b[0;32m      4\u001b[0m     database\u001b[39m=\u001b[39;49m\u001b[39m'\u001b[39;49m\u001b[39mdev\u001b[39;49m\u001b[39m'\u001b[39;49m,\n\u001b[0;32m      5\u001b[0m     user\u001b[39m=\u001b[39;49m \u001b[39m'\u001b[39;49m\u001b[39mawsuser\u001b[39;49m\u001b[39m'\u001b[39;49m,\n\u001b[0;32m      6\u001b[0m  )\n\u001b[0;32m      7\u001b[0m cursor \u001b[39m=\u001b[39m conn\u001b[39m.\u001b[39mcursor()\n",
      "File \u001b[1;32md:\\Anacoda\\lib\\site-packages\\redshift_connector\\__init__.py:340\u001b[0m, in \u001b[0;36mconnect\u001b[1;34m(user, database, password, port, host, source_address, unix_sock, ssl, sslmode, timeout, max_prepared_statements, tcp_keepalive, application_name, replication, idp_host, db_user, app_id, app_name, preferred_role, principal_arn, access_key_id, secret_access_key, session_token, profile, credentials_provider, region, cluster_identifier, iam, client_id, idp_tenant, client_secret, partner_sp_id, idp_response_timeout, listen_port, login_url, auto_create, db_groups, force_lowercase, allow_db_user_override, client_protocol_version, database_metadata_current_db_only, ssl_insecure, web_identity_token, role_session_name, role_arn, iam_disable_cache, auth_profile, endpoint_url, provider_name, scope, numeric_to_float, is_serverless, serverless_acct_id, serverless_work_group, group_federation)\u001b[0m\n\u001b[0;32m    337\u001b[0m _logger\u001b[39m.\u001b[39mdebug(mask_secure_info_in_props(info)\u001b[39m.\u001b[39m\u001b[39m__str__\u001b[39m())\n\u001b[0;32m    338\u001b[0m _logger\u001b[39m.\u001b[39mdebug(make_divider_block())\n\u001b[1;32m--> 340\u001b[0m \u001b[39mreturn\u001b[39;00m Connection(\n\u001b[0;32m    341\u001b[0m     user\u001b[39m=\u001b[39;49minfo\u001b[39m.\u001b[39;49muser_name,\n\u001b[0;32m    342\u001b[0m     host\u001b[39m=\u001b[39;49minfo\u001b[39m.\u001b[39;49mhost,\n\u001b[0;32m    343\u001b[0m     database\u001b[39m=\u001b[39;49minfo\u001b[39m.\u001b[39;49mdb_name,\n\u001b[0;32m    344\u001b[0m     port\u001b[39m=\u001b[39;49minfo\u001b[39m.\u001b[39;49mport,\n\u001b[0;32m    345\u001b[0m     password\u001b[39m=\u001b[39;49minfo\u001b[39m.\u001b[39;49mpassword,\n\u001b[0;32m    346\u001b[0m     source_address\u001b[39m=\u001b[39;49minfo\u001b[39m.\u001b[39;49msource_address,\n\u001b[0;32m    347\u001b[0m     unix_sock\u001b[39m=\u001b[39;49minfo\u001b[39m.\u001b[39;49munix_sock,\n\u001b[0;32m    348\u001b[0m     ssl\u001b[39m=\u001b[39;49minfo\u001b[39m.\u001b[39;49mssl,\n\u001b[0;32m    349\u001b[0m     sslmode\u001b[39m=\u001b[39;49minfo\u001b[39m.\u001b[39;49msslmode,\n\u001b[0;32m    350\u001b[0m     timeout\u001b[39m=\u001b[39;49minfo\u001b[39m.\u001b[39;49mtimeout,\n\u001b[0;32m    351\u001b[0m     max_prepared_statements\u001b[39m=\u001b[39;49minfo\u001b[39m.\u001b[39;49mmax_prepared_statements,\n\u001b[0;32m    352\u001b[0m     tcp_keepalive\u001b[39m=\u001b[39;49minfo\u001b[39m.\u001b[39;49mtcp_keepalive,\n\u001b[0;32m    353\u001b[0m     application_name\u001b[39m=\u001b[39;49minfo\u001b[39m.\u001b[39;49mapplication_name,\n\u001b[0;32m    354\u001b[0m     replication\u001b[39m=\u001b[39;49minfo\u001b[39m.\u001b[39;49mreplication,\n\u001b[0;32m    355\u001b[0m     client_protocol_version\u001b[39m=\u001b[39;49minfo\u001b[39m.\u001b[39;49mclient_protocol_version,\n\u001b[0;32m    356\u001b[0m     database_metadata_current_db_only\u001b[39m=\u001b[39;49minfo\u001b[39m.\u001b[39;49mdatabase_metadata_current_db_only,\n\u001b[0;32m    357\u001b[0m     credentials_provider\u001b[39m=\u001b[39;49minfo\u001b[39m.\u001b[39;49mcredentials_provider,\n\u001b[0;32m    358\u001b[0m     provider_name\u001b[39m=\u001b[39;49minfo\u001b[39m.\u001b[39;49mprovider_name,\n\u001b[0;32m    359\u001b[0m     web_identity_token\u001b[39m=\u001b[39;49minfo\u001b[39m.\u001b[39;49mweb_identity_token,\n\u001b[0;32m    360\u001b[0m     numeric_to_float\u001b[39m=\u001b[39;49minfo\u001b[39m.\u001b[39;49mnumeric_to_float,\n\u001b[0;32m    361\u001b[0m )\n",
      "File \u001b[1;32md:\\Anacoda\\lib\\site-packages\\redshift_connector\\core.py:632\u001b[0m, in \u001b[0;36mConnection.__init__\u001b[1;34m(self, user, password, database, host, port, source_address, unix_sock, ssl, sslmode, timeout, max_prepared_statements, tcp_keepalive, application_name, replication, client_protocol_version, database_metadata_current_db_only, credentials_provider, provider_name, web_identity_token, numeric_to_float)\u001b[0m\n\u001b[0;32m    630\u001b[0m \u001b[39mexcept\u001b[39;00m socket\u001b[39m.\u001b[39merror \u001b[39mas\u001b[39;00m e:\n\u001b[0;32m    631\u001b[0m     \u001b[39mself\u001b[39m\u001b[39m.\u001b[39m_usock\u001b[39m.\u001b[39mclose()\n\u001b[1;32m--> 632\u001b[0m     \u001b[39mraise\u001b[39;00m InterfaceError(\u001b[39m\"\u001b[39m\u001b[39mcommunication error\u001b[39m\u001b[39m\"\u001b[39m, e)\n\u001b[0;32m    633\u001b[0m \u001b[39mself\u001b[39m\u001b[39m.\u001b[39m_flush: typing\u001b[39m.\u001b[39mCallable \u001b[39m=\u001b[39m \u001b[39mself\u001b[39m\u001b[39m.\u001b[39m_sock\u001b[39m.\u001b[39mflush\n\u001b[0;32m    634\u001b[0m \u001b[39mself\u001b[39m\u001b[39m.\u001b[39m_read: typing\u001b[39m.\u001b[39mCallable \u001b[39m=\u001b[39m \u001b[39mself\u001b[39m\u001b[39m.\u001b[39m_sock\u001b[39m.\u001b[39mread\n",
      "\u001b[1;31mInterfaceError\u001b[0m: ('communication error', gaierror(11001, 'getaddrinfo failed'))"
     ]
    }
   ],
   "source": [
    "conn = redshift_connector.connect(\n",
    "    host='myhost.redshift.amazonaws.com',\n",
    "    port=5439,\n",
    "    database='dev',\n",
    "    user= 'awsuser',\n",
    " )\n",
    "cursor = conn.cursor()"
   ]
  },
  {
   "attachments": {},
   "cell_type": "markdown",
   "metadata": {},
   "source": [
    "## Get the current dataset datetime distribution\n",
    "+ To generate emulation data, we need to set datetime to current day time"
   ]
  },
  {
   "cell_type": "code",
   "execution_count": null,
   "metadata": {},
   "outputs": [
    {
     "data": {
      "text/plain": [
       "'1545403816.870900'"
      ]
     },
     "execution_count": 33,
     "metadata": {},
     "output_type": "execute_result"
    }
   ],
   "source": [
    "df34['datetime'] = pd.to_datetime(df34['ts'],unit='s')\n",
    "MIN_TS = df34['ts'].min()\n",
    "\n"
   ]
  },
  {
   "cell_type": "code",
   "execution_count": null,
   "metadata": {},
   "outputs": [
    {
     "name": "stdout",
     "output_type": "stream",
     "text": [
      "2023-02-25\n",
      "62189.73321199417\n",
      "start time:  1545466006.604112\n",
      "end time:  1545466036.604112\n"
     ]
    }
   ],
   "source": [
    "#How to set a offset ?\n",
    "from datetime import datetime,date\n",
    "pd.to_datetime(MIN_TS, unit='s')\n",
    "today_date = date.today()\n",
    "print('today is: ',today_date)\n",
    "now_ts = datetime.timestamp(datetime.now())\n",
    "now_ts_offset = datetime.strptime(str(today_date), \"%Y-%m-%d\").timestamp()\n",
    "offset = now_ts-now_ts_offset\n",
    "print(offset)\n",
    "\n",
    "# new_df = df34.loc[df34['ts']>1545403848.981338+offset and df34['ts']<1545403848.981338+offset+30]\n",
    "# new_df\n",
    "print('start time: ',MIN_TS + offset)\n",
    "print('end time: ', MIN_TS + offset + 30)"
   ]
  },
  {
   "cell_type": "code",
   "execution_count": null,
   "metadata": {},
   "outputs": [],
   "source": [
    "df34.to_json('connlog34.json', orient=\"records\")"
   ]
  }
 ],
 "metadata": {
  "kernelspec": {
   "display_name": "base",
   "language": "python",
   "name": "python3"
  },
  "language_info": {
   "codemirror_mode": {
    "name": "ipython",
    "version": 3
   },
   "file_extension": ".py",
   "mimetype": "text/x-python",
   "name": "python",
   "nbconvert_exporter": "python",
   "pygments_lexer": "ipython3",
   "version": "3.8.8"
  },
  "orig_nbformat": 4,
  "vscode": {
   "interpreter": {
    "hash": "b9ed3a930106bc9d64cab54d85f264cf5d27acda2441008f0cbc8fc69b170baf"
   }
  }
 },
 "nbformat": 4,
 "nbformat_minor": 2
}
