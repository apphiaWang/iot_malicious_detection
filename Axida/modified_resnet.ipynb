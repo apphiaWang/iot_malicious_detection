{
 "cells": [
  {
   "cell_type": "code",
   "execution_count": 1,
   "metadata": {
    "id": "NwMsQFFFcd-E"
   },
   "outputs": [],
   "source": [
    "import torch.nn as nn\n",
    "\n",
    "\n",
    "class ResNet(nn.Module):\n",
    "    def __init__(self, num_classes=12):\n",
    "        super(ResNet, self).__init__()\n",
    "        self.fc1 = nn.Linear(24, 96)\n",
    "        self.bn1 = nn.BatchNorm1d(96)\n",
    "        self.relu = nn.ReLU(inplace=True)\n",
    "        self.fc2 = nn.Linear(96, 24)\n",
    "        self.bn2 = nn.BatchNorm1d(24)\n",
    "        self.fc3 = nn.Linear(24, num_classes)\n",
    "        self.softmax = nn.Softmax(dim=1)\n",
    "\n",
    "    def forward(self, x):\n",
    "        identity = x\n",
    "        out = self.fc1(x)\n",
    "        out = self.bn1(out)\n",
    "        out = self.relu(out)\n",
    "        out = self.fc2(out)\n",
    "        out = self.bn2(out)\n",
    "        out += identity\n",
    "        out = self.relu(out)\n",
    "        out = self.fc3(out)\n",
    "        out = self.softmax(out)\n",
    "        return out\n"
   ]
  },
  {
   "cell_type": "code",
   "execution_count": 2,
   "metadata": {
    "colab": {
     "base_uri": "https://localhost:8080/"
    },
    "id": "04X1IX8vdvq1",
    "outputId": "b0e7f929-f848-44e7-fb91-370c3c963494"
   },
   "outputs": [],
   "source": [
    "# from google.colab import drive\n",
    "# drive.mount('/content/drive')\n",
    "# %cd /content/drive/My\\ Drive/'Colab Notebooks'"
   ]
  },
  {
   "cell_type": "code",
   "execution_count": 3,
   "metadata": {
    "id": "TWMn2FXveB9Z"
   },
   "outputs": [],
   "source": [
    "import pandas as pd"
   ]
  },
  {
   "cell_type": "code",
   "execution_count": 4,
   "metadata": {
    "colab": {
     "base_uri": "https://localhost:8080/",
     "height": 483
    },
    "id": "Eb5EFkbZeGqn",
    "outputId": "e6b20085-e563-402a-c144-76cce4f6aa8b"
   },
   "outputs": [],
   "source": [
    "df = pd.read_csv('iot23_combined_2.csv')\n"
   ]
  },
  {
   "cell_type": "code",
   "execution_count": 5,
   "metadata": {
    "colab": {
     "base_uri": "https://localhost:8080/"
    },
    "id": "K3BBQjm1ey_j",
    "outputId": "42d5678b-e83b-406a-ec86-3aac6a62a149"
   },
   "outputs": [
    {
     "data": {
      "text/plain": [
       "PartOfAHorizontalPortScan    100000\n",
       "Okiru                        100000\n",
       "Benign                       100000\n",
       "DDoS                         100000\n",
       "Name: label, dtype: int64"
      ]
     },
     "execution_count": 5,
     "metadata": {},
     "output_type": "execute_result"
    }
   ],
   "source": [
    "df['label'].value_counts()"
   ]
  },
  {
   "cell_type": "code",
   "execution_count": 6,
   "metadata": {
    "colab": {
     "base_uri": "https://localhost:8080/"
    },
    "id": "OXJLGNb1fzMA",
    "outputId": "ca562b8d-5ed6-4a81-b7e3-2a92b94baabc"
   },
   "outputs": [
    {
     "name": "stdout",
     "output_type": "stream",
     "text": [
      "['duration', 'orig_bytes', 'resp_bytes', 'missed_bytes', 'orig_pkts', 'orig_ip_bytes', 'resp_pkts', 'resp_ip_bytes', 'label', 'proto_icmp', 'proto_tcp', 'proto_udp', 'conn_state_OTH', 'conn_state_REJ', 'conn_state_RSTO', 'conn_state_RSTOS0', 'conn_state_RSTR', 'conn_state_RSTRH', 'conn_state_S0', 'conn_state_S1', 'conn_state_S2', 'conn_state_S3', 'conn_state_SF', 'conn_state_SH', 'conn_state_SHR']\n"
     ]
    }
   ],
   "source": [
    "print(df.columns.tolist())"
   ]
  },
  {
   "cell_type": "code",
   "execution_count": 7,
   "metadata": {
    "id": "vgtKECNFgAKY"
   },
   "outputs": [],
   "source": [
    "X = df[['duration', 'orig_bytes', 'resp_bytes', 'missed_bytes', 'orig_pkts', 'orig_ip_bytes', 'resp_pkts', 'resp_ip_bytes', 'proto_icmp', 'proto_tcp', 'proto_udp', 'conn_state_OTH', 'conn_state_REJ', 'conn_state_RSTO', 'conn_state_RSTOS0', 'conn_state_RSTR', 'conn_state_RSTRH', 'conn_state_S0', 'conn_state_S1', 'conn_state_S2', 'conn_state_S3', 'conn_state_SF', 'conn_state_SH', 'conn_state_SHR']]"
   ]
  },
  {
   "cell_type": "code",
   "execution_count": 8,
   "metadata": {
    "colab": {
     "base_uri": "https://localhost:8080/"
    },
    "id": "bJ5i9No-gPfh",
    "outputId": "6caa5c6d-f5c8-429e-a2bb-ff1a99ea0f37"
   },
   "outputs": [
    {
     "data": {
      "text/plain": [
       "(400000, 24)"
      ]
     },
     "execution_count": 8,
     "metadata": {},
     "output_type": "execute_result"
    }
   ],
   "source": [
    "X.shape"
   ]
  },
  {
   "cell_type": "code",
   "execution_count": 9,
   "metadata": {
    "id": "Fe6thEnJgZKp"
   },
   "outputs": [],
   "source": [
    "Y = pd.get_dummies(df['label']).values"
   ]
  },
  {
   "cell_type": "code",
   "execution_count": 10,
   "metadata": {
    "colab": {
     "base_uri": "https://localhost:8080/"
    },
    "id": "JIfXoGCzga6O",
    "outputId": "46512077-3eb1-4f3c-f00a-0763e3c11fbf"
   },
   "outputs": [
    {
     "data": {
      "text/plain": [
       "(400000, 4)"
      ]
     },
     "execution_count": 10,
     "metadata": {},
     "output_type": "execute_result"
    }
   ],
   "source": [
    "Y.shape"
   ]
  },
  {
   "cell_type": "code",
   "execution_count": 11,
   "metadata": {
    "id": "EkAoay4ggsXq"
   },
   "outputs": [],
   "source": [
    "from sklearn.preprocessing import MinMaxScaler"
   ]
  },
  {
   "cell_type": "code",
   "execution_count": 12,
   "metadata": {
    "id": "q1gm9qKBgjfe"
   },
   "outputs": [],
   "source": [
    "scaler = MinMaxScaler()"
   ]
  },
  {
   "cell_type": "code",
   "execution_count": 13,
   "metadata": {
    "colab": {
     "base_uri": "https://localhost:8080/",
     "height": 74
    },
    "id": "ZDFaKzqzguHo",
    "outputId": "4e827281-423a-4de3-c7f5-c1a58b14ba94"
   },
   "outputs": [
    {
     "data": {
      "text/html": [
       "<style>#sk-container-id-1 {color: black;background-color: white;}#sk-container-id-1 pre{padding: 0;}#sk-container-id-1 div.sk-toggleable {background-color: white;}#sk-container-id-1 label.sk-toggleable__label {cursor: pointer;display: block;width: 100%;margin-bottom: 0;padding: 0.3em;box-sizing: border-box;text-align: center;}#sk-container-id-1 label.sk-toggleable__label-arrow:before {content: \"▸\";float: left;margin-right: 0.25em;color: #696969;}#sk-container-id-1 label.sk-toggleable__label-arrow:hover:before {color: black;}#sk-container-id-1 div.sk-estimator:hover label.sk-toggleable__label-arrow:before {color: black;}#sk-container-id-1 div.sk-toggleable__content {max-height: 0;max-width: 0;overflow: hidden;text-align: left;background-color: #f0f8ff;}#sk-container-id-1 div.sk-toggleable__content pre {margin: 0.2em;color: black;border-radius: 0.25em;background-color: #f0f8ff;}#sk-container-id-1 input.sk-toggleable__control:checked~div.sk-toggleable__content {max-height: 200px;max-width: 100%;overflow: auto;}#sk-container-id-1 input.sk-toggleable__control:checked~label.sk-toggleable__label-arrow:before {content: \"▾\";}#sk-container-id-1 div.sk-estimator input.sk-toggleable__control:checked~label.sk-toggleable__label {background-color: #d4ebff;}#sk-container-id-1 div.sk-label input.sk-toggleable__control:checked~label.sk-toggleable__label {background-color: #d4ebff;}#sk-container-id-1 input.sk-hidden--visually {border: 0;clip: rect(1px 1px 1px 1px);clip: rect(1px, 1px, 1px, 1px);height: 1px;margin: -1px;overflow: hidden;padding: 0;position: absolute;width: 1px;}#sk-container-id-1 div.sk-estimator {font-family: monospace;background-color: #f0f8ff;border: 1px dotted black;border-radius: 0.25em;box-sizing: border-box;margin-bottom: 0.5em;}#sk-container-id-1 div.sk-estimator:hover {background-color: #d4ebff;}#sk-container-id-1 div.sk-parallel-item::after {content: \"\";width: 100%;border-bottom: 1px solid gray;flex-grow: 1;}#sk-container-id-1 div.sk-label:hover label.sk-toggleable__label {background-color: #d4ebff;}#sk-container-id-1 div.sk-serial::before {content: \"\";position: absolute;border-left: 1px solid gray;box-sizing: border-box;top: 0;bottom: 0;left: 50%;z-index: 0;}#sk-container-id-1 div.sk-serial {display: flex;flex-direction: column;align-items: center;background-color: white;padding-right: 0.2em;padding-left: 0.2em;position: relative;}#sk-container-id-1 div.sk-item {position: relative;z-index: 1;}#sk-container-id-1 div.sk-parallel {display: flex;align-items: stretch;justify-content: center;background-color: white;position: relative;}#sk-container-id-1 div.sk-item::before, #sk-container-id-1 div.sk-parallel-item::before {content: \"\";position: absolute;border-left: 1px solid gray;box-sizing: border-box;top: 0;bottom: 0;left: 50%;z-index: -1;}#sk-container-id-1 div.sk-parallel-item {display: flex;flex-direction: column;z-index: 1;position: relative;background-color: white;}#sk-container-id-1 div.sk-parallel-item:first-child::after {align-self: flex-end;width: 50%;}#sk-container-id-1 div.sk-parallel-item:last-child::after {align-self: flex-start;width: 50%;}#sk-container-id-1 div.sk-parallel-item:only-child::after {width: 0;}#sk-container-id-1 div.sk-dashed-wrapped {border: 1px dashed gray;margin: 0 0.4em 0.5em 0.4em;box-sizing: border-box;padding-bottom: 0.4em;background-color: white;}#sk-container-id-1 div.sk-label label {font-family: monospace;font-weight: bold;display: inline-block;line-height: 1.2em;}#sk-container-id-1 div.sk-label-container {text-align: center;}#sk-container-id-1 div.sk-container {/* jupyter's `normalize.less` sets `[hidden] { display: none; }` but bootstrap.min.css set `[hidden] { display: none !important; }` so we also need the `!important` here to be able to override the default hidden behavior on the sphinx rendered scikit-learn.org. See: https://github.com/scikit-learn/scikit-learn/issues/21755 */display: inline-block !important;position: relative;}#sk-container-id-1 div.sk-text-repr-fallback {display: none;}</style><div id=\"sk-container-id-1\" class=\"sk-top-container\"><div class=\"sk-text-repr-fallback\"><pre>MinMaxScaler()</pre><b>In a Jupyter environment, please rerun this cell to show the HTML representation or trust the notebook. <br />On GitHub, the HTML representation is unable to render, please try loading this page with nbviewer.org.</b></div><div class=\"sk-container\" hidden><div class=\"sk-item\"><div class=\"sk-estimator sk-toggleable\"><input class=\"sk-toggleable__control sk-hidden--visually\" id=\"sk-estimator-id-1\" type=\"checkbox\" checked><label for=\"sk-estimator-id-1\" class=\"sk-toggleable__label sk-toggleable__label-arrow\">MinMaxScaler</label><div class=\"sk-toggleable__content\"><pre>MinMaxScaler()</pre></div></div></div></div></div>"
      ],
      "text/plain": [
       "MinMaxScaler()"
      ]
     },
     "execution_count": 13,
     "metadata": {},
     "output_type": "execute_result"
    }
   ],
   "source": [
    "scaler.fit(X)"
   ]
  },
  {
   "cell_type": "code",
   "execution_count": 14,
   "metadata": {
    "id": "tjntnG0fg0wt"
   },
   "outputs": [],
   "source": [
    "normalized_x = scaler.transform(X)"
   ]
  },
  {
   "cell_type": "code",
   "execution_count": 15,
   "metadata": {
    "colab": {
     "base_uri": "https://localhost:8080/",
     "height": 74
    },
    "id": "yEL-UqLsg-ma",
    "outputId": "68332ecf-7e91-4591-fc96-459eca51ff91"
   },
   "outputs": [
    {
     "data": {
      "text/html": [
       "<style>#sk-container-id-2 {color: black;background-color: white;}#sk-container-id-2 pre{padding: 0;}#sk-container-id-2 div.sk-toggleable {background-color: white;}#sk-container-id-2 label.sk-toggleable__label {cursor: pointer;display: block;width: 100%;margin-bottom: 0;padding: 0.3em;box-sizing: border-box;text-align: center;}#sk-container-id-2 label.sk-toggleable__label-arrow:before {content: \"▸\";float: left;margin-right: 0.25em;color: #696969;}#sk-container-id-2 label.sk-toggleable__label-arrow:hover:before {color: black;}#sk-container-id-2 div.sk-estimator:hover label.sk-toggleable__label-arrow:before {color: black;}#sk-container-id-2 div.sk-toggleable__content {max-height: 0;max-width: 0;overflow: hidden;text-align: left;background-color: #f0f8ff;}#sk-container-id-2 div.sk-toggleable__content pre {margin: 0.2em;color: black;border-radius: 0.25em;background-color: #f0f8ff;}#sk-container-id-2 input.sk-toggleable__control:checked~div.sk-toggleable__content {max-height: 200px;max-width: 100%;overflow: auto;}#sk-container-id-2 input.sk-toggleable__control:checked~label.sk-toggleable__label-arrow:before {content: \"▾\";}#sk-container-id-2 div.sk-estimator input.sk-toggleable__control:checked~label.sk-toggleable__label {background-color: #d4ebff;}#sk-container-id-2 div.sk-label input.sk-toggleable__control:checked~label.sk-toggleable__label {background-color: #d4ebff;}#sk-container-id-2 input.sk-hidden--visually {border: 0;clip: rect(1px 1px 1px 1px);clip: rect(1px, 1px, 1px, 1px);height: 1px;margin: -1px;overflow: hidden;padding: 0;position: absolute;width: 1px;}#sk-container-id-2 div.sk-estimator {font-family: monospace;background-color: #f0f8ff;border: 1px dotted black;border-radius: 0.25em;box-sizing: border-box;margin-bottom: 0.5em;}#sk-container-id-2 div.sk-estimator:hover {background-color: #d4ebff;}#sk-container-id-2 div.sk-parallel-item::after {content: \"\";width: 100%;border-bottom: 1px solid gray;flex-grow: 1;}#sk-container-id-2 div.sk-label:hover label.sk-toggleable__label {background-color: #d4ebff;}#sk-container-id-2 div.sk-serial::before {content: \"\";position: absolute;border-left: 1px solid gray;box-sizing: border-box;top: 0;bottom: 0;left: 50%;z-index: 0;}#sk-container-id-2 div.sk-serial {display: flex;flex-direction: column;align-items: center;background-color: white;padding-right: 0.2em;padding-left: 0.2em;position: relative;}#sk-container-id-2 div.sk-item {position: relative;z-index: 1;}#sk-container-id-2 div.sk-parallel {display: flex;align-items: stretch;justify-content: center;background-color: white;position: relative;}#sk-container-id-2 div.sk-item::before, #sk-container-id-2 div.sk-parallel-item::before {content: \"\";position: absolute;border-left: 1px solid gray;box-sizing: border-box;top: 0;bottom: 0;left: 50%;z-index: -1;}#sk-container-id-2 div.sk-parallel-item {display: flex;flex-direction: column;z-index: 1;position: relative;background-color: white;}#sk-container-id-2 div.sk-parallel-item:first-child::after {align-self: flex-end;width: 50%;}#sk-container-id-2 div.sk-parallel-item:last-child::after {align-self: flex-start;width: 50%;}#sk-container-id-2 div.sk-parallel-item:only-child::after {width: 0;}#sk-container-id-2 div.sk-dashed-wrapped {border: 1px dashed gray;margin: 0 0.4em 0.5em 0.4em;box-sizing: border-box;padding-bottom: 0.4em;background-color: white;}#sk-container-id-2 div.sk-label label {font-family: monospace;font-weight: bold;display: inline-block;line-height: 1.2em;}#sk-container-id-2 div.sk-label-container {text-align: center;}#sk-container-id-2 div.sk-container {/* jupyter's `normalize.less` sets `[hidden] { display: none; }` but bootstrap.min.css set `[hidden] { display: none !important; }` so we also need the `!important` here to be able to override the default hidden behavior on the sphinx rendered scikit-learn.org. See: https://github.com/scikit-learn/scikit-learn/issues/21755 */display: inline-block !important;position: relative;}#sk-container-id-2 div.sk-text-repr-fallback {display: none;}</style><div id=\"sk-container-id-2\" class=\"sk-top-container\"><div class=\"sk-text-repr-fallback\"><pre>MinMaxScaler()</pre><b>In a Jupyter environment, please rerun this cell to show the HTML representation or trust the notebook. <br />On GitHub, the HTML representation is unable to render, please try loading this page with nbviewer.org.</b></div><div class=\"sk-container\" hidden><div class=\"sk-item\"><div class=\"sk-estimator sk-toggleable\"><input class=\"sk-toggleable__control sk-hidden--visually\" id=\"sk-estimator-id-2\" type=\"checkbox\" checked><label for=\"sk-estimator-id-2\" class=\"sk-toggleable__label sk-toggleable__label-arrow\">MinMaxScaler</label><div class=\"sk-toggleable__content\"><pre>MinMaxScaler()</pre></div></div></div></div></div>"
      ],
      "text/plain": [
       "MinMaxScaler()"
      ]
     },
     "execution_count": 15,
     "metadata": {},
     "output_type": "execute_result"
    }
   ],
   "source": [
    "scaler.fit(Y)"
   ]
  },
  {
   "cell_type": "code",
   "execution_count": 16,
   "metadata": {
    "id": "Ik_yII6khBc5"
   },
   "outputs": [],
   "source": [
    "normalized_y = scaler.transform(Y)"
   ]
  },
  {
   "cell_type": "code",
   "execution_count": 17,
   "metadata": {
    "id": "PrnSnSROhPDc"
   },
   "outputs": [],
   "source": [
    "from sklearn.model_selection import train_test_split"
   ]
  },
  {
   "cell_type": "code",
   "execution_count": 18,
   "metadata": {
    "id": "zTsAOZPwhECG"
   },
   "outputs": [],
   "source": [
    "X_train, X_test, Y_train, Y_test = train_test_split(normalized_x, normalized_y, random_state=10, test_size=0.2)"
   ]
  },
  {
   "cell_type": "code",
   "execution_count": 19,
   "metadata": {
    "id": "GFoyoYTGcsUs"
   },
   "outputs": [
    {
     "name": "stdout",
     "output_type": "stream",
     "text": [
      "Epoch [1/300], Loss: 1.1744\n",
      "Epoch [2/300], Loss: 1.1130\n",
      "Epoch [3/300], Loss: 1.0832\n",
      "Epoch [4/300], Loss: 1.0700\n",
      "Epoch [5/300], Loss: 1.0691\n",
      "Epoch [6/300], Loss: 1.0692\n",
      "Epoch [7/300], Loss: 1.0683\n",
      "Epoch [8/300], Loss: 1.0682\n",
      "Epoch [9/300], Loss: 1.0682\n",
      "Epoch [10/300], Loss: 1.0689\n",
      "Epoch [11/300], Loss: 1.0679\n",
      "Epoch [12/300], Loss: 1.0681\n",
      "Epoch [13/300], Loss: 1.0679\n",
      "Epoch [14/300], Loss: 1.0675\n",
      "Epoch [15/300], Loss: 1.0675\n",
      "Epoch [16/300], Loss: 1.0675\n",
      "Epoch [17/300], Loss: 1.0677\n",
      "Epoch [18/300], Loss: 1.0674\n",
      "Epoch [19/300], Loss: 1.0672\n",
      "Epoch [20/300], Loss: 1.0671\n",
      "Epoch [21/300], Loss: 1.0672\n",
      "Epoch [22/300], Loss: 1.0682\n",
      "Epoch [23/300], Loss: 1.0670\n",
      "Epoch [24/300], Loss: 1.0671\n",
      "Epoch [25/300], Loss: 1.0669\n",
      "Epoch [26/300], Loss: 1.0670\n",
      "Epoch [27/300], Loss: 1.0671\n",
      "Epoch [28/300], Loss: 1.0671\n",
      "Epoch [29/300], Loss: 1.0671\n",
      "Epoch [30/300], Loss: 1.0669\n",
      "Epoch [31/300], Loss: 1.0671\n",
      "Epoch [32/300], Loss: 1.0671\n",
      "Epoch [33/300], Loss: 1.0669\n",
      "Epoch [34/300], Loss: 1.0669\n",
      "Epoch [35/300], Loss: 1.0669\n",
      "Epoch [36/300], Loss: 1.0667\n",
      "Epoch [37/300], Loss: 1.0668\n",
      "Epoch [38/300], Loss: 1.0667\n",
      "Epoch [39/300], Loss: 1.0667\n",
      "Epoch [40/300], Loss: 1.0666\n",
      "Epoch [41/300], Loss: 1.0668\n",
      "Epoch [42/300], Loss: 1.0668\n",
      "Epoch [43/300], Loss: 1.0667\n",
      "Epoch [44/300], Loss: 1.0667\n",
      "Epoch [45/300], Loss: 1.0667\n",
      "Epoch [46/300], Loss: 1.0668\n",
      "Epoch [47/300], Loss: 1.0668\n",
      "Epoch [48/300], Loss: 1.0668\n",
      "Epoch [49/300], Loss: 1.0668\n",
      "Epoch [50/300], Loss: 1.0666\n",
      "Epoch [51/300], Loss: 1.0666\n",
      "Epoch [52/300], Loss: 1.0668\n",
      "Epoch [53/300], Loss: 1.0667\n",
      "Epoch [54/300], Loss: 1.0668\n",
      "Epoch [55/300], Loss: 1.0680\n",
      "Epoch [56/300], Loss: 1.0672\n",
      "Epoch [57/300], Loss: 1.0666\n",
      "Epoch [58/300], Loss: 1.0667\n",
      "Epoch [59/300], Loss: 1.0666\n",
      "Epoch [60/300], Loss: 1.0687\n",
      "Epoch [61/300], Loss: 1.0667\n",
      "Epoch [62/300], Loss: 1.0666\n",
      "Epoch [63/300], Loss: 1.0667\n",
      "Epoch [64/300], Loss: 1.0673\n",
      "Epoch [65/300], Loss: 1.0667\n",
      "Epoch [66/300], Loss: 1.0666\n",
      "Epoch [67/300], Loss: 1.0666\n",
      "Epoch [68/300], Loss: 1.0667\n",
      "Epoch [69/300], Loss: 1.0669\n",
      "Epoch [70/300], Loss: 1.0665\n",
      "Epoch [71/300], Loss: 1.0666\n",
      "Epoch [72/300], Loss: 1.0665\n",
      "Epoch [73/300], Loss: 1.0666\n",
      "Epoch [74/300], Loss: 1.0665\n",
      "Epoch [75/300], Loss: 1.0664\n",
      "Epoch [76/300], Loss: 1.0672\n",
      "Epoch [77/300], Loss: 1.0665\n",
      "Epoch [78/300], Loss: 1.0664\n",
      "Epoch [79/300], Loss: 1.0664\n",
      "Epoch [80/300], Loss: 1.0664\n",
      "Epoch [81/300], Loss: 1.0664\n",
      "Epoch [82/300], Loss: 1.0664\n",
      "Epoch [83/300], Loss: 1.0665\n",
      "Epoch [84/300], Loss: 1.0665\n",
      "Epoch [85/300], Loss: 1.0665\n",
      "Epoch [86/300], Loss: 1.0665\n",
      "Epoch [87/300], Loss: 1.0665\n",
      "Epoch [88/300], Loss: 1.0665\n",
      "Epoch [89/300], Loss: 1.0664\n",
      "Epoch [90/300], Loss: 1.0664\n",
      "Epoch [91/300], Loss: 1.0665\n",
      "Epoch [92/300], Loss: 1.0666\n",
      "Epoch [93/300], Loss: 1.0665\n",
      "Epoch [94/300], Loss: 1.0667\n",
      "Epoch [95/300], Loss: 1.0666\n",
      "Epoch [96/300], Loss: 1.0664\n",
      "Epoch [97/300], Loss: 1.0663\n",
      "Epoch [98/300], Loss: 1.0664\n",
      "Epoch [99/300], Loss: 1.0665\n",
      "Epoch [100/300], Loss: 1.0665\n",
      "Epoch [101/300], Loss: 1.0665\n",
      "Epoch [102/300], Loss: 1.0665\n",
      "Epoch [103/300], Loss: 1.0665\n",
      "Epoch [104/300], Loss: 1.0666\n",
      "Epoch [105/300], Loss: 1.0666\n",
      "Epoch [106/300], Loss: 1.0670\n",
      "Epoch [107/300], Loss: 1.0664\n",
      "Epoch [108/300], Loss: 1.0663\n",
      "Epoch [109/300], Loss: 1.0662\n",
      "Epoch [110/300], Loss: 1.0667\n",
      "Epoch [111/300], Loss: 1.0661\n",
      "Epoch [112/300], Loss: 1.0661\n",
      "Epoch [113/300], Loss: 1.0660\n",
      "Epoch [114/300], Loss: 1.0659\n",
      "Epoch [115/300], Loss: 1.0658\n",
      "Epoch [116/300], Loss: 1.0659\n",
      "Epoch [117/300], Loss: 1.0657\n",
      "Epoch [118/300], Loss: 1.0659\n",
      "Epoch [119/300], Loss: 1.0657\n",
      "Epoch [120/300], Loss: 1.0661\n",
      "Epoch [121/300], Loss: 1.0660\n",
      "Epoch [122/300], Loss: 1.0658\n",
      "Epoch [123/300], Loss: 1.0659\n",
      "Epoch [124/300], Loss: 1.0657\n",
      "Epoch [125/300], Loss: 1.0665\n",
      "Epoch [126/300], Loss: 1.0669\n",
      "Epoch [127/300], Loss: 1.0657\n",
      "Epoch [128/300], Loss: 1.0660\n",
      "Epoch [129/300], Loss: 1.0657\n",
      "Epoch [130/300], Loss: 1.0658\n",
      "Epoch [131/300], Loss: 1.0656\n",
      "Epoch [132/300], Loss: 1.0660\n",
      "Epoch [133/300], Loss: 1.0656\n",
      "Epoch [134/300], Loss: 1.0656\n",
      "Epoch [135/300], Loss: 1.0655\n",
      "Epoch [136/300], Loss: 1.0656\n",
      "Epoch [137/300], Loss: 1.0656\n",
      "Epoch [138/300], Loss: 1.0657\n",
      "Epoch [139/300], Loss: 1.0669\n",
      "Epoch [140/300], Loss: 1.0656\n",
      "Epoch [141/300], Loss: 1.0655\n",
      "Epoch [142/300], Loss: 1.0656\n",
      "Epoch [143/300], Loss: 1.0671\n",
      "Epoch [144/300], Loss: 1.0655\n",
      "Epoch [145/300], Loss: 1.0655\n",
      "Epoch [146/300], Loss: 1.0656\n",
      "Epoch [147/300], Loss: 1.0657\n",
      "Epoch [148/300], Loss: 1.0656\n",
      "Epoch [149/300], Loss: 1.0654\n",
      "Epoch [150/300], Loss: 1.0656\n",
      "Epoch [151/300], Loss: 1.0654\n",
      "Epoch [152/300], Loss: 1.0658\n",
      "Epoch [153/300], Loss: 1.0656\n",
      "Epoch [154/300], Loss: 1.0656\n",
      "Epoch [155/300], Loss: 1.0672\n",
      "Epoch [156/300], Loss: 1.0656\n",
      "Epoch [157/300], Loss: 1.0655\n",
      "Epoch [158/300], Loss: 1.0710\n",
      "Epoch [159/300], Loss: 1.0721\n",
      "Epoch [160/300], Loss: 1.0734\n",
      "Epoch [161/300], Loss: 1.0670\n",
      "Epoch [162/300], Loss: 1.0659\n",
      "Epoch [163/300], Loss: 1.0656\n",
      "Epoch [164/300], Loss: 1.0656\n",
      "Epoch [165/300], Loss: 1.0664\n",
      "Epoch [166/300], Loss: 1.0656\n",
      "Epoch [167/300], Loss: 1.0668\n",
      "Epoch [168/300], Loss: 1.0750\n",
      "Epoch [169/300], Loss: 1.0677\n",
      "Epoch [170/300], Loss: 1.0670\n",
      "Epoch [171/300], Loss: 1.0670\n",
      "Epoch [172/300], Loss: 1.0670\n",
      "Epoch [173/300], Loss: 1.0668\n",
      "Epoch [174/300], Loss: 1.0666\n",
      "Epoch [175/300], Loss: 1.0668\n",
      "Epoch [176/300], Loss: 1.0668\n",
      "Epoch [177/300], Loss: 1.0667\n",
      "Epoch [178/300], Loss: 1.0665\n",
      "Epoch [179/300], Loss: 1.0666\n",
      "Epoch [180/300], Loss: 1.0665\n",
      "Epoch [181/300], Loss: 1.0665\n",
      "Epoch [182/300], Loss: 1.0665\n",
      "Epoch [183/300], Loss: 1.0665\n",
      "Epoch [184/300], Loss: 1.0664\n",
      "Epoch [185/300], Loss: 1.0684\n",
      "Epoch [186/300], Loss: 1.0666\n",
      "Epoch [187/300], Loss: 1.0665\n",
      "Epoch [188/300], Loss: 1.0665\n",
      "Epoch [189/300], Loss: 1.0664\n",
      "Epoch [190/300], Loss: 1.0663\n",
      "Epoch [191/300], Loss: 1.0664\n",
      "Epoch [192/300], Loss: 1.0665\n",
      "Epoch [193/300], Loss: 1.0664\n",
      "Epoch [194/300], Loss: 1.0664\n",
      "Epoch [195/300], Loss: 1.0664\n",
      "Epoch [196/300], Loss: 1.0664\n",
      "Epoch [197/300], Loss: 1.0664\n",
      "Epoch [198/300], Loss: 1.0663\n",
      "Epoch [199/300], Loss: 1.0663\n",
      "Epoch [200/300], Loss: 1.0663\n",
      "Epoch [201/300], Loss: 1.0661\n",
      "Epoch [202/300], Loss: 1.0687\n",
      "Epoch [203/300], Loss: 1.0661\n",
      "Epoch [204/300], Loss: 1.0657\n",
      "Epoch [205/300], Loss: 1.0659\n",
      "Epoch [206/300], Loss: 1.0667\n",
      "Epoch [207/300], Loss: 1.0658\n",
      "Epoch [208/300], Loss: 1.0659\n",
      "Epoch [209/300], Loss: 1.0658\n",
      "Epoch [210/300], Loss: 1.0657\n",
      "Epoch [211/300], Loss: 1.0676\n",
      "Epoch [212/300], Loss: 1.0657\n",
      "Epoch [213/300], Loss: 1.0657\n",
      "Epoch [214/300], Loss: 1.0655\n",
      "Epoch [215/300], Loss: 1.0656\n",
      "Epoch [216/300], Loss: 1.0659\n",
      "Epoch [217/300], Loss: 1.0658\n",
      "Epoch [218/300], Loss: 1.0663\n",
      "Epoch [219/300], Loss: 1.0678\n",
      "Epoch [220/300], Loss: 1.0657\n",
      "Epoch [221/300], Loss: 1.0655\n",
      "Epoch [222/300], Loss: 1.0656\n",
      "Epoch [223/300], Loss: 1.0694\n",
      "Epoch [224/300], Loss: 1.0658\n",
      "Epoch [225/300], Loss: 1.0657\n",
      "Epoch [226/300], Loss: 1.0656\n",
      "Epoch [227/300], Loss: 1.0656\n",
      "Epoch [228/300], Loss: 1.0656\n",
      "Epoch [229/300], Loss: 1.0657\n",
      "Epoch [230/300], Loss: 1.0657\n",
      "Epoch [231/300], Loss: 1.0655\n",
      "Epoch [232/300], Loss: 1.0686\n",
      "Epoch [233/300], Loss: 1.0657\n",
      "Epoch [234/300], Loss: 1.0656\n",
      "Epoch [235/300], Loss: 1.0656\n",
      "Epoch [236/300], Loss: 1.0655\n",
      "Epoch [237/300], Loss: 1.0655\n",
      "Epoch [238/300], Loss: 1.0670\n",
      "Epoch [239/300], Loss: 1.0655\n",
      "Epoch [240/300], Loss: 1.0656\n",
      "Epoch [241/300], Loss: 1.0656\n",
      "Epoch [242/300], Loss: 1.0655\n",
      "Epoch [243/300], Loss: 1.0654\n",
      "Epoch [244/300], Loss: 1.0655\n",
      "Epoch [245/300], Loss: 1.0655\n",
      "Epoch [246/300], Loss: 1.0655\n",
      "Epoch [247/300], Loss: 1.0654\n",
      "Epoch [248/300], Loss: 1.0658\n",
      "Epoch [249/300], Loss: 1.0656\n",
      "Epoch [250/300], Loss: 1.0655\n",
      "Epoch [251/300], Loss: 1.0656\n",
      "Epoch [252/300], Loss: 1.0655\n",
      "Epoch [253/300], Loss: 1.0655\n",
      "Epoch [254/300], Loss: 1.0655\n",
      "Epoch [255/300], Loss: 1.0655\n",
      "Epoch [256/300], Loss: 1.0661\n",
      "Epoch [257/300], Loss: 1.0658\n",
      "Epoch [258/300], Loss: 1.0654\n",
      "Epoch [259/300], Loss: 1.0654\n",
      "Epoch [260/300], Loss: 1.0658\n",
      "Epoch [261/300], Loss: 1.0657\n",
      "Epoch [262/300], Loss: 1.0654\n",
      "Epoch [263/300], Loss: 1.0655\n",
      "Epoch [264/300], Loss: 1.0654\n",
      "Epoch [265/300], Loss: 1.0653\n",
      "Epoch [266/300], Loss: 1.0653\n",
      "Epoch [267/300], Loss: 1.0656\n",
      "Epoch [268/300], Loss: 1.0653\n",
      "Epoch [269/300], Loss: 1.0679\n",
      "Epoch [270/300], Loss: 1.0654\n",
      "Epoch [271/300], Loss: 1.0655\n",
      "Epoch [272/300], Loss: 1.0653\n",
      "Epoch [273/300], Loss: 1.0653\n",
      "Epoch [274/300], Loss: 1.0660\n",
      "Epoch [275/300], Loss: 1.0669\n",
      "Epoch [276/300], Loss: 1.0675\n",
      "Epoch [277/300], Loss: 1.0686\n",
      "Epoch [278/300], Loss: 1.0662\n",
      "Epoch [279/300], Loss: 1.0656\n",
      "Epoch [280/300], Loss: 1.0659\n",
      "Epoch [281/300], Loss: 1.0660\n",
      "Epoch [282/300], Loss: 1.0656\n",
      "Epoch [283/300], Loss: 1.0655\n",
      "Epoch [284/300], Loss: 1.0658\n",
      "Epoch [285/300], Loss: 1.0657\n",
      "Epoch [286/300], Loss: 1.0663\n",
      "Epoch [287/300], Loss: 1.0653\n",
      "Epoch [288/300], Loss: 1.0655\n",
      "Epoch [289/300], Loss: 1.0653\n",
      "Epoch [290/300], Loss: 1.0656\n",
      "Epoch [291/300], Loss: 1.0656\n",
      "Epoch [292/300], Loss: 1.0654\n",
      "Epoch [293/300], Loss: 1.0656\n",
      "Epoch [294/300], Loss: 1.0655\n",
      "Epoch [295/300], Loss: 1.0656\n",
      "Epoch [296/300], Loss: 1.0654\n",
      "Epoch [297/300], Loss: 1.0653\n",
      "Epoch [298/300], Loss: 1.0655\n",
      "Epoch [299/300], Loss: 1.0683\n",
      "Epoch [300/300], Loss: 1.0661\n",
      "Accuracy on the validation set: 67.41%\n"
     ]
    }
   ],
   "source": [
    "import torch\n",
    "import torch.nn as nn\n",
    "import torch.optim as optim\n",
    "from sklearn.datasets import make_classification\n",
    "\n",
    "# Convert the data to PyTorch tensors\n",
    "X_train = torch.tensor(X_train, dtype=torch.float32)\n",
    "y_train = torch.tensor(Y_train, dtype=torch.float32)\n",
    "X_val = torch.tensor(X_test, dtype=torch.float32)\n",
    "y_val = torch.tensor(Y_test, dtype=torch.float32)\n",
    "\n",
    "# X_train = X_train.clone().detach()\n",
    "# y_train = y_train.clone().detach()\n",
    "# X_val = X_val.clone().detach()\n",
    "# y_val = y_val.clone().detach()\n",
    "\n",
    "# Create the ResNet model\n",
    "model = ResNet(num_classes=4)\n",
    "\n",
    "# Define the loss function and optimizer\n",
    "criterion = nn.CrossEntropyLoss()\n",
    "optimizer = optim.Adam(model.parameters(), lr=0.001)\n",
    "\n",
    "# Train the model\n",
    "num_epochs = 300\n",
    "batch_size = 32\n",
    "num_batches = len(X_train) // batch_size\n",
    "\n",
    "for epoch in range(num_epochs):\n",
    "    running_loss = 0.0\n",
    "    for i in range(num_batches):\n",
    "        start_idx = i * batch_size\n",
    "        end_idx = (i + 1) * batch_size\n",
    "        inputs = X_train[start_idx:end_idx]\n",
    "        labels = y_train[start_idx:end_idx]\n",
    "        \n",
    "        optimizer.zero_grad()\n",
    "        \n",
    "        outputs = model(inputs)\n",
    "        loss = criterion(outputs, labels)\n",
    "        loss.backward()\n",
    "        optimizer.step()\n",
    "        \n",
    "        running_loss += loss.item()\n",
    "        \n",
    "    epoch_loss = running_loss / num_batches\n",
    "    print('Epoch [{}/{}], Loss: {:.4f}'.format(epoch+1, num_epochs, epoch_loss))\n",
    "\n",
    "# Evaluate the model on the validation set\n",
    "with torch.no_grad():\n",
    "    model.eval()\n",
    "    outputs = model(X_val)\n",
    "    _, predicted = torch.max(outputs.data, 1)\n",
    "    total = y_val.size(0)\n",
    "    _, normal_y_val = torch.max(y_val.data,1)\n",
    "    correct = (predicted == normal_y_val).sum().item()\n",
    "    accuracy = correct / total\n",
    "    print('Accuracy on the validation set: {:.2f}%'.format(accuracy * 100))\n"
   ]
  },
  {
   "cell_type": "code",
   "execution_count": 20,
   "metadata": {},
   "outputs": [],
   "source": [
    "torch.save(model,'resnet.pt')"
   ]
  }
 ],
 "metadata": {
  "colab": {
   "provenance": []
  },
  "kernelspec": {
   "display_name": "Python 3 (ipykernel)",
   "language": "python",
   "name": "python3"
  },
  "language_info": {
   "codemirror_mode": {
    "name": "ipython",
    "version": 3
   },
   "file_extension": ".py",
   "mimetype": "text/x-python",
   "name": "python",
   "nbconvert_exporter": "python",
   "pygments_lexer": "ipython3",
   "version": "3.9.13"
  }
 },
 "nbformat": 4,
 "nbformat_minor": 4
}
