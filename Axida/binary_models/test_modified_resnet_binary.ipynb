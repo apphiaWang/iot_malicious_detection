{
 "cells": [
  {
   "cell_type": "code",
   "execution_count": 1,
   "metadata": {
    "id": "NwMsQFFFcd-E"
   },
   "outputs": [],
   "source": [
    "import torch.nn as nn\n",
    "import pandas as pd\n",
    "\n",
    "class ResNet(nn.Module):\n",
    "    def __init__(self, num_classes=12):\n",
    "        super(ResNet, self).__init__()\n",
    "        self.fc1 = nn.Linear(24, 96)\n",
    "        self.bn1 = nn.BatchNorm1d(96)\n",
    "        self.relu = nn.ReLU(inplace=True)\n",
    "        self.fc2 = nn.Linear(96, 24)\n",
    "        self.bn2 = nn.BatchNorm1d(24)\n",
    "        self.fc3 = nn.Linear(24, num_classes)\n",
    "        self.softmax = nn.Softmax(dim=1)\n",
    "\n",
    "    def forward(self, x):\n",
    "        identity = x\n",
    "        out = self.fc1(x)\n",
    "        out = self.bn1(out)\n",
    "        out = self.relu(out)\n",
    "        out = self.fc2(out)\n",
    "        out = self.bn2(out)\n",
    "        out += identity\n",
    "        out = self.relu(out)\n",
    "        out = self.fc3(out)\n",
    "        out = self.softmax(out)\n",
    "        return out"
   ]
  },
  {
   "cell_type": "code",
   "execution_count": 2,
   "metadata": {
    "colab": {
     "base_uri": "https://localhost:8080/",
     "height": 483
    },
    "id": "Eb5EFkbZeGqn",
    "outputId": "e6b20085-e563-402a-c144-76cce4f6aa8b"
   },
   "outputs": [],
   "source": [
    "df = pd.read_csv('iot23_test_binary.csv')"
   ]
  },
  {
   "cell_type": "code",
   "execution_count": 3,
   "metadata": {
    "colab": {
     "base_uri": "https://localhost:8080/"
    },
    "id": "K3BBQjm1ey_j",
    "outputId": "42d5678b-e83b-406a-ec86-3aac6a62a149"
   },
   "outputs": [
    {
     "data": {
      "text/plain": [
       "Benign       40051\n",
       "Malicious    39949\n",
       "Name: label, dtype: int64"
      ]
     },
     "execution_count": 3,
     "metadata": {},
     "output_type": "execute_result"
    }
   ],
   "source": [
    "df['label'].value_counts()"
   ]
  },
  {
   "cell_type": "code",
   "execution_count": 4,
   "metadata": {
    "id": "vgtKECNFgAKY"
   },
   "outputs": [],
   "source": [
    "X = df[['duration', 'orig_bytes', 'resp_bytes', 'missed_bytes', 'orig_pkts', 'orig_ip_bytes', 'resp_pkts', 'resp_ip_bytes', 'proto_icmp', 'proto_tcp', 'proto_udp', 'conn_state_OTH', 'conn_state_REJ', 'conn_state_RSTO', 'conn_state_RSTOS0', 'conn_state_RSTR', 'conn_state_RSTRH', 'conn_state_S0', 'conn_state_S1', 'conn_state_S2', 'conn_state_S3', 'conn_state_SF', 'conn_state_SH', 'conn_state_SHR']]"
   ]
  },
  {
   "cell_type": "code",
   "execution_count": 5,
   "metadata": {
    "colab": {
     "base_uri": "https://localhost:8080/"
    },
    "id": "bJ5i9No-gPfh",
    "outputId": "6caa5c6d-f5c8-429e-a2bb-ff1a99ea0f37"
   },
   "outputs": [
    {
     "data": {
      "text/plain": [
       "(80000, 24)"
      ]
     },
     "execution_count": 5,
     "metadata": {},
     "output_type": "execute_result"
    }
   ],
   "source": [
    "X.shape"
   ]
  },
  {
   "cell_type": "code",
   "execution_count": 6,
   "metadata": {
    "id": "Fe6thEnJgZKp"
   },
   "outputs": [],
   "source": [
    "Y = pd.get_dummies(df['label']).values"
   ]
  },
  {
   "cell_type": "code",
   "execution_count": 7,
   "metadata": {
    "colab": {
     "base_uri": "https://localhost:8080/"
    },
    "id": "JIfXoGCzga6O",
    "outputId": "46512077-3eb1-4f3c-f00a-0763e3c11fbf"
   },
   "outputs": [
    {
     "data": {
      "text/plain": [
       "(80000, 2)"
      ]
     },
     "execution_count": 7,
     "metadata": {},
     "output_type": "execute_result"
    }
   ],
   "source": [
    "Y.shape"
   ]
  },
  {
   "cell_type": "code",
   "execution_count": 9,
   "metadata": {
    "id": "EkAoay4ggsXq"
   },
   "outputs": [],
   "source": [
    "from sklearn.preprocessing import MinMaxScaler\n",
    "scaler = MinMaxScaler()\n",
    "scaler.fit(X)\n",
    "normalized_x = scaler.transform(X)\n",
    "scaler.fit(Y)\n",
    "normalized_y = scaler.transform(Y)"
   ]
  },
  {
   "cell_type": "code",
   "execution_count": 10,
   "metadata": {
    "id": "GFoyoYTGcsUs"
   },
   "outputs": [
    {
     "name": "stdout",
     "output_type": "stream",
     "text": [
      "Accuracy on the validation set: 55.64%\n"
     ]
    }
   ],
   "source": [
    "import torch\n",
    "import torch.nn as nn\n",
    "import torch.optim as optim\n",
    "from sklearn.datasets import make_classification\n",
    "\n",
    "# Convert the data to PyTorch tensors\n",
    "\n",
    "X = torch.tensor(normalized_x, dtype=torch.float32)\n",
    "Y = torch.tensor(normalized_y, dtype=torch.float32)\n",
    "\n",
    "# load the ResNet model\n",
    "model = torch.load('resnet_binary.pt')\n",
    "\n",
    "# Evaluate the model on the validation set\n",
    "with torch.no_grad():\n",
    "    model.eval()\n",
    "    outputs = model(X)\n",
    "    _, predicted = torch.max(outputs.data, 1)\n",
    "    total = Y.size(0)\n",
    "    _, normal_y_val = torch.max(Y.data,1)\n",
    "    correct = (predicted == normal_y_val).sum().item()\n",
    "    accuracy = correct / total\n",
    "    print('Accuracy on the validation set: {:.2f}%'.format(accuracy * 100))\n"
   ]
  }
 ],
 "metadata": {
  "colab": {
   "provenance": []
  },
  "kernelspec": {
   "display_name": "Python 3 (ipykernel)",
   "language": "python",
   "name": "python3"
  },
  "language_info": {
   "codemirror_mode": {
    "name": "ipython",
    "version": 3
   },
   "file_extension": ".py",
   "mimetype": "text/x-python",
   "name": "python",
   "nbconvert_exporter": "python",
   "pygments_lexer": "ipython3",
   "version": "3.9.13"
  }
 },
 "nbformat": 4,
 "nbformat_minor": 4
}
