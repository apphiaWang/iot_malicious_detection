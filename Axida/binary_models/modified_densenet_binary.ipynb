{
 "cells": [
  {
   "cell_type": "code",
   "execution_count": 1,
   "metadata": {
    "id": "WMaxxCSSH1mL"
   },
   "outputs": [],
   "source": [
    "import pandas as pd\n",
    "from sklearn.preprocessing import MinMaxScaler\n",
    "from sklearn.model_selection import train_test_split\n",
    "import torch\n",
    "import torch.nn as nn\n",
    "import numpy as np\n",
    "import torch.optim as optim"
   ]
  },
  {
   "cell_type": "code",
   "execution_count": 2,
   "metadata": {
    "id": "jhh3q7NUH8tk"
   },
   "outputs": [],
   "source": [
    "df = pd.read_csv('iot23_train_binary.csv')"
   ]
  },
  {
   "cell_type": "code",
   "execution_count": 3,
   "metadata": {
    "id": "A_IGgJwHIBQ0"
   },
   "outputs": [],
   "source": [
    "X = df[['duration', 'orig_bytes', 'resp_bytes', 'missed_bytes', 'orig_pkts', 'orig_ip_bytes', 'resp_pkts', 'resp_ip_bytes', 'proto_icmp', 'proto_tcp', 'proto_udp', 'conn_state_OTH', 'conn_state_REJ', 'conn_state_RSTO', 'conn_state_RSTOS0', 'conn_state_RSTR', 'conn_state_RSTRH', 'conn_state_S0', 'conn_state_S1', 'conn_state_S2', 'conn_state_S3', 'conn_state_SF', 'conn_state_SH', 'conn_state_SHR']]\n",
    "Y = pd.get_dummies(df['label']).values"
   ]
  },
  {
   "cell_type": "code",
   "execution_count": 4,
   "metadata": {
    "id": "TwVCNXo1IEW7"
   },
   "outputs": [],
   "source": [
    "scaler = MinMaxScaler()\n",
    "scaler.fit(X)\n",
    "normalized_x = scaler.transform(X)\n",
    "scaler.fit(Y)\n",
    "normalized_y = scaler.transform(Y)\n",
    "X_train, X_test, Y_train, Y_test = train_test_split(normalized_x, normalized_y, random_state=10, test_size=0.2)"
   ]
  },
  {
   "cell_type": "code",
   "execution_count": 5,
   "metadata": {
    "colab": {
     "base_uri": "https://localhost:8080/"
    },
    "id": "cQHmllyPEjNK",
    "outputId": "65c6f57e-c170-4312-ef72-5368ce1968b8"
   },
   "outputs": [
    {
     "name": "stdout",
     "output_type": "stream",
     "text": [
      "Epoch 1: Train Loss=0.6953 Val Loss=0.6926 Val Acc=0.5038\n",
      "Epoch 2: Train Loss=0.6833 Val Loss=0.6924 Val Acc=0.5038\n",
      "Epoch 3: Train Loss=0.6740 Val Loss=0.6923 Val Acc=0.5038\n",
      "Epoch 4: Train Loss=0.6671 Val Loss=0.6921 Val Acc=0.5038\n",
      "Epoch 5: Train Loss=0.6620 Val Loss=0.6918 Val Acc=0.5038\n",
      "Epoch 6: Train Loss=0.6590 Val Loss=0.6915 Val Acc=0.5038\n",
      "Epoch 7: Train Loss=0.6565 Val Loss=0.6912 Val Acc=0.5038\n",
      "Epoch 8: Train Loss=0.6549 Val Loss=0.6908 Val Acc=0.5490\n",
      "Epoch 9: Train Loss=0.6534 Val Loss=0.6903 Val Acc=0.5490\n",
      "Epoch 10: Train Loss=0.6524 Val Loss=0.6898 Val Acc=0.5486\n",
      "Epoch 11: Train Loss=0.6514 Val Loss=0.6892 Val Acc=0.5485\n",
      "Epoch 12: Train Loss=0.6506 Val Loss=0.6885 Val Acc=0.5485\n",
      "Epoch 13: Train Loss=0.6498 Val Loss=0.6878 Val Acc=0.5484\n",
      "Epoch 14: Train Loss=0.6492 Val Loss=0.6870 Val Acc=0.5484\n",
      "Epoch 15: Train Loss=0.6483 Val Loss=0.6861 Val Acc=0.5484\n",
      "Epoch 16: Train Loss=0.6477 Val Loss=0.6852 Val Acc=0.5440\n",
      "Epoch 17: Train Loss=0.6468 Val Loss=0.6842 Val Acc=0.5439\n",
      "Epoch 18: Train Loss=0.6461 Val Loss=0.6831 Val Acc=0.5439\n",
      "Epoch 19: Train Loss=0.6453 Val Loss=0.6819 Val Acc=0.5439\n",
      "Epoch 20: Train Loss=0.6444 Val Loss=0.6806 Val Acc=0.5439\n",
      "Epoch 21: Train Loss=0.6436 Val Loss=0.6793 Val Acc=0.5439\n",
      "Epoch 22: Train Loss=0.6426 Val Loss=0.6780 Val Acc=0.5439\n",
      "Epoch 23: Train Loss=0.6417 Val Loss=0.6767 Val Acc=0.7248\n",
      "Epoch 24: Train Loss=0.6408 Val Loss=0.6754 Val Acc=0.7248\n",
      "Epoch 25: Train Loss=0.6398 Val Loss=0.6741 Val Acc=0.7248\n",
      "Epoch 26: Train Loss=0.6384 Val Loss=0.6729 Val Acc=0.7248\n",
      "Epoch 27: Train Loss=0.6373 Val Loss=0.6716 Val Acc=0.7248\n",
      "Epoch 28: Train Loss=0.6365 Val Loss=0.6704 Val Acc=0.7249\n",
      "Epoch 29: Train Loss=0.6350 Val Loss=0.6691 Val Acc=0.7249\n",
      "Epoch 30: Train Loss=0.6339 Val Loss=0.6677 Val Acc=0.7281\n",
      "Epoch 31: Train Loss=0.6323 Val Loss=0.6664 Val Acc=0.7281\n",
      "Epoch 32: Train Loss=0.6308 Val Loss=0.6651 Val Acc=0.7281\n",
      "Epoch 33: Train Loss=0.6294 Val Loss=0.6637 Val Acc=0.7281\n",
      "Epoch 34: Train Loss=0.6280 Val Loss=0.6623 Val Acc=0.7294\n",
      "Epoch 35: Train Loss=0.6266 Val Loss=0.6609 Val Acc=0.7294\n",
      "Epoch 36: Train Loss=0.6253 Val Loss=0.6595 Val Acc=0.7295\n",
      "Epoch 37: Train Loss=0.6234 Val Loss=0.6580 Val Acc=0.7165\n",
      "Epoch 38: Train Loss=0.6218 Val Loss=0.6566 Val Acc=0.7165\n",
      "Epoch 39: Train Loss=0.6201 Val Loss=0.6549 Val Acc=0.7166\n",
      "Epoch 40: Train Loss=0.6181 Val Loss=0.6532 Val Acc=0.7166\n",
      "Epoch 41: Train Loss=0.6165 Val Loss=0.6513 Val Acc=0.7166\n",
      "Epoch 42: Train Loss=0.6147 Val Loss=0.6494 Val Acc=0.7165\n",
      "Epoch 43: Train Loss=0.6130 Val Loss=0.6474 Val Acc=0.7166\n",
      "Epoch 44: Train Loss=0.6109 Val Loss=0.6452 Val Acc=0.7165\n",
      "Epoch 45: Train Loss=0.6094 Val Loss=0.6429 Val Acc=0.7165\n",
      "Epoch 46: Train Loss=0.6077 Val Loss=0.6406 Val Acc=0.7168\n",
      "Epoch 47: Train Loss=0.6057 Val Loss=0.6382 Val Acc=0.7168\n",
      "Epoch 48: Train Loss=0.6041 Val Loss=0.6355 Val Acc=0.7168\n",
      "Epoch 49: Train Loss=0.6023 Val Loss=0.6328 Val Acc=0.7168\n",
      "Epoch 50: Train Loss=0.6005 Val Loss=0.6299 Val Acc=0.7168\n",
      "Epoch 51: Train Loss=0.5986 Val Loss=0.6269 Val Acc=0.7169\n",
      "Epoch 52: Train Loss=0.5966 Val Loss=0.6239 Val Acc=0.7169\n",
      "Epoch 53: Train Loss=0.5957 Val Loss=0.6208 Val Acc=0.7169\n",
      "Epoch 54: Train Loss=0.5940 Val Loss=0.6177 Val Acc=0.7169\n",
      "Epoch 55: Train Loss=0.5924 Val Loss=0.6146 Val Acc=0.7169\n",
      "Epoch 56: Train Loss=0.5907 Val Loss=0.6114 Val Acc=0.7169\n",
      "Epoch 57: Train Loss=0.5887 Val Loss=0.6082 Val Acc=0.7169\n",
      "Epoch 58: Train Loss=0.5874 Val Loss=0.6051 Val Acc=0.7169\n",
      "Epoch 59: Train Loss=0.5862 Val Loss=0.6020 Val Acc=0.7169\n",
      "Epoch 60: Train Loss=0.5847 Val Loss=0.5990 Val Acc=0.7169\n",
      "Epoch 61: Train Loss=0.5834 Val Loss=0.5961 Val Acc=0.7169\n",
      "Epoch 62: Train Loss=0.5825 Val Loss=0.5932 Val Acc=0.7169\n",
      "Epoch 63: Train Loss=0.5810 Val Loss=0.5905 Val Acc=0.7169\n",
      "Epoch 64: Train Loss=0.5794 Val Loss=0.5880 Val Acc=0.7169\n",
      "Epoch 65: Train Loss=0.5790 Val Loss=0.5858 Val Acc=0.7169\n",
      "Epoch 66: Train Loss=0.5780 Val Loss=0.5837 Val Acc=0.7169\n",
      "Epoch 67: Train Loss=0.5771 Val Loss=0.5819 Val Acc=0.7169\n",
      "Epoch 68: Train Loss=0.5760 Val Loss=0.5803 Val Acc=0.7170\n",
      "Epoch 69: Train Loss=0.5745 Val Loss=0.5787 Val Acc=0.7170\n",
      "Epoch 70: Train Loss=0.5739 Val Loss=0.5772 Val Acc=0.7170\n",
      "Epoch 71: Train Loss=0.5726 Val Loss=0.5758 Val Acc=0.7170\n",
      "Epoch 72: Train Loss=0.5721 Val Loss=0.5743 Val Acc=0.7170\n",
      "Epoch 73: Train Loss=0.5713 Val Loss=0.5730 Val Acc=0.7170\n",
      "Epoch 74: Train Loss=0.5704 Val Loss=0.5718 Val Acc=0.7170\n",
      "Epoch 75: Train Loss=0.5695 Val Loss=0.5704 Val Acc=0.7170\n",
      "Epoch 76: Train Loss=0.5697 Val Loss=0.5688 Val Acc=0.7170\n",
      "Epoch 77: Train Loss=0.5689 Val Loss=0.5670 Val Acc=0.7170\n",
      "Epoch 78: Train Loss=0.5683 Val Loss=0.5654 Val Acc=0.7170\n",
      "Epoch 79: Train Loss=0.5676 Val Loss=0.5643 Val Acc=0.7170\n",
      "Epoch 80: Train Loss=0.5671 Val Loss=0.5634 Val Acc=0.7170\n",
      "Epoch 81: Train Loss=0.5668 Val Loss=0.5628 Val Acc=0.7170\n",
      "Epoch 82: Train Loss=0.5659 Val Loss=0.5624 Val Acc=0.7170\n",
      "Epoch 83: Train Loss=0.5656 Val Loss=0.5621 Val Acc=0.7170\n",
      "Epoch 84: Train Loss=0.5653 Val Loss=0.5622 Val Acc=0.7170\n",
      "Epoch 85: Train Loss=0.5646 Val Loss=0.5623 Val Acc=0.7170\n",
      "Epoch 86: Train Loss=0.5644 Val Loss=0.5623 Val Acc=0.7170\n",
      "Epoch 87: Train Loss=0.5638 Val Loss=0.5622 Val Acc=0.7170\n",
      "Epoch 88: Train Loss=0.5634 Val Loss=0.5620 Val Acc=0.7170\n",
      "Epoch 89: Train Loss=0.5627 Val Loss=0.5617 Val Acc=0.7170\n",
      "Epoch 90: Train Loss=0.5620 Val Loss=0.5616 Val Acc=0.7170\n",
      "Epoch 91: Train Loss=0.5621 Val Loss=0.5618 Val Acc=0.7170\n",
      "Epoch 92: Train Loss=0.5613 Val Loss=0.5621 Val Acc=0.7170\n",
      "Epoch 93: Train Loss=0.5609 Val Loss=0.5625 Val Acc=0.7170\n",
      "Epoch 94: Train Loss=0.5607 Val Loss=0.5628 Val Acc=0.7170\n",
      "Epoch 95: Train Loss=0.5605 Val Loss=0.5630 Val Acc=0.7170\n",
      "Epoch 96: Train Loss=0.5606 Val Loss=0.5630 Val Acc=0.7170\n",
      "Epoch 97: Train Loss=0.5599 Val Loss=0.5633 Val Acc=0.7170\n",
      "Epoch 98: Train Loss=0.5592 Val Loss=0.5635 Val Acc=0.7170\n",
      "Epoch 99: Train Loss=0.5591 Val Loss=0.5634 Val Acc=0.7170\n",
      "Epoch 100: Train Loss=0.5586 Val Loss=0.5629 Val Acc=0.7170\n"
     ]
    }
   ],
   "source": [
    "class DenseNet(nn.Module):\n",
    "    def __init__(self, num_classes=2):\n",
    "        super(DenseNet, self).__init__()\n",
    "\n",
    "        self.fc1 = nn.Linear(24, 256)\n",
    "        self.bn1 = nn.BatchNorm1d(256)\n",
    "        self.relu = nn.ReLU(inplace=True)\n",
    "        self.dropout1 = nn.Dropout(0.25)\n",
    "\n",
    "        self.fc2 = nn.Linear(256, 512)\n",
    "        self.bn2 = nn.BatchNorm1d(512)\n",
    "        self.dropout2 = nn.Dropout(0.25)\n",
    "\n",
    "        self.fc3 = nn.Linear(512, 256)\n",
    "        self.bn3 = nn.BatchNorm1d(256)\n",
    "        self.dropout3 = nn.Dropout(0.25)\n",
    "\n",
    "        self.fc4 = nn.Linear(256, num_classes)\n",
    "\n",
    "        self.softmax = nn.Softmax(dim=1)\n",
    "\n",
    "    def forward(self, x):\n",
    "        out = self.fc1(x)\n",
    "        out = self.bn1(out)\n",
    "        out = self.relu(out)\n",
    "        out = self.dropout1(out)\n",
    "\n",
    "        out = self.fc2(out)\n",
    "        out = self.bn2(out)\n",
    "        out = self.relu(out)\n",
    "        out = self.dropout2(out)\n",
    "\n",
    "        out = self.fc3(out)\n",
    "        out = self.bn3(out)\n",
    "        out = self.relu(out)\n",
    "        out = self.dropout3(out)\n",
    "\n",
    "        out = self.fc4(out)\n",
    "        out = self.softmax(out)\n",
    "\n",
    "        return out\n",
    "\n",
    "\n",
    "\n",
    "# Convert the data to PyTorch tensors\n",
    "X_train = torch.tensor(X_train, dtype=torch.float32)\n",
    "y_train = torch.tensor(Y_train, dtype=torch.float32)\n",
    "X_val = torch.tensor(X_test, dtype=torch.float32)\n",
    "y_val = torch.tensor(Y_test, dtype=torch.float32)\n",
    "\n",
    "# Initialize the model and optimizer\n",
    "model = DenseNet(num_classes=2)\n",
    "optimizer = optim.Adam(model.parameters(), lr=0.0001)\n",
    "\n",
    "# Train the model\n",
    "num_epochs = 100\n",
    "for epoch in range(num_epochs):\n",
    "    model.train()\n",
    "    optimizer.zero_grad()\n",
    "\n",
    "    y_pred = model(X_train)\n",
    "    loss = nn.CrossEntropyLoss()(y_pred, y_train)\n",
    "    loss.backward()\n",
    "    optimizer.step()\n",
    "\n",
    "    # Evaluate the model on the validation set\n",
    "    model.eval()\n",
    "    with torch.no_grad():\n",
    "        y_pred = model(X_val)\n",
    "        _, normal_y_val = torch.max(y_val.data,1)\n",
    "        val_loss = nn.CrossEntropyLoss()(y_pred, y_val)\n",
    "        val_acc = (y_pred.argmax(1) == normal_y_val).float().mean()\n",
    "\n",
    "    print(f\"Epoch {epoch+1}: Train Loss={loss.item():.4f} Val Loss={val_loss.item():.4f} Val Acc={val_acc.item():.4f}\")"
   ]
  },
  {
   "cell_type": "code",
   "execution_count": 6,
   "metadata": {},
   "outputs": [],
   "source": [
    "torch.save(model,'densenet_binary.pt')"
   ]
  }
 ],
 "metadata": {
  "colab": {
   "provenance": []
  },
  "kernelspec": {
   "display_name": "Python 3 (ipykernel)",
   "language": "python",
   "name": "python3"
  },
  "language_info": {
   "codemirror_mode": {
    "name": "ipython",
    "version": 3
   },
   "file_extension": ".py",
   "mimetype": "text/x-python",
   "name": "python",
   "nbconvert_exporter": "python",
   "pygments_lexer": "ipython3",
   "version": "3.9.13"
  }
 },
 "nbformat": 4,
 "nbformat_minor": 4
}
