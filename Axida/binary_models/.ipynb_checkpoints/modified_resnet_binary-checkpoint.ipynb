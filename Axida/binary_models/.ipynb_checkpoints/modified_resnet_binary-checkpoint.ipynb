{
 "cells": [
  {
   "cell_type": "code",
   "execution_count": 1,
   "metadata": {
    "id": "NwMsQFFFcd-E"
   },
   "outputs": [],
   "source": [
    "import torch.nn as nn\n",
    "\n",
    "\n",
    "class ResNet(nn.Module):\n",
    "    def __init__(self, num_classes=2):\n",
    "        super(ResNet, self).__init__()\n",
    "        self.fc1 = nn.Linear(24, 96)\n",
    "        self.bn1 = nn.BatchNorm1d(96)\n",
    "        self.relu = nn.ReLU(inplace=True)\n",
    "        self.fc2 = nn.Linear(96, 24)\n",
    "        self.bn2 = nn.BatchNorm1d(24)\n",
    "        self.fc3 = nn.Linear(24, num_classes)\n",
    "        self.softmax = nn.Softmax(dim=1)\n",
    "\n",
    "    def forward(self, x):\n",
    "        identity = x\n",
    "        out = self.fc1(x)\n",
    "        out = self.bn1(out)\n",
    "        out = self.relu(out)\n",
    "        out = self.fc2(out)\n",
    "        out = self.bn2(out)\n",
    "        out += identity\n",
    "        out = self.relu(out)\n",
    "        out = self.fc3(out)\n",
    "        out = self.softmax(out)\n",
    "        return out\n"
   ]
  },
  {
   "cell_type": "code",
   "execution_count": 2,
   "metadata": {
    "id": "TWMn2FXveB9Z"
   },
   "outputs": [],
   "source": [
    "import pandas as pd"
   ]
  },
  {
   "cell_type": "code",
   "execution_count": 3,
   "metadata": {
    "colab": {
     "base_uri": "https://localhost:8080/",
     "height": 483
    },
    "id": "Eb5EFkbZeGqn",
    "outputId": "e6b20085-e563-402a-c144-76cce4f6aa8b"
   },
   "outputs": [],
   "source": [
    "df = pd.read_csv('iot23_train_binary.csv')"
   ]
  },
  {
   "cell_type": "code",
   "execution_count": 4,
   "metadata": {
    "id": "vgtKECNFgAKY"
   },
   "outputs": [],
   "source": [
    "X = df[['duration', 'orig_bytes', 'resp_bytes', 'missed_bytes', 'orig_pkts', 'orig_ip_bytes', 'resp_pkts', 'resp_ip_bytes', 'proto_icmp', 'proto_tcp', 'proto_udp', 'conn_state_OTH', 'conn_state_REJ', 'conn_state_RSTO', 'conn_state_RSTOS0', 'conn_state_RSTR', 'conn_state_RSTRH', 'conn_state_S0', 'conn_state_S1', 'conn_state_S2', 'conn_state_S3', 'conn_state_SF', 'conn_state_SH', 'conn_state_SHR']]"
   ]
  },
  {
   "cell_type": "code",
   "execution_count": 5,
   "metadata": {
    "colab": {
     "base_uri": "https://localhost:8080/"
    },
    "id": "bJ5i9No-gPfh",
    "outputId": "6caa5c6d-f5c8-429e-a2bb-ff1a99ea0f37"
   },
   "outputs": [
    {
     "data": {
      "text/plain": [
       "(320000, 24)"
      ]
     },
     "execution_count": 5,
     "metadata": {},
     "output_type": "execute_result"
    }
   ],
   "source": [
    "X.shape"
   ]
  },
  {
   "cell_type": "code",
   "execution_count": 6,
   "metadata": {
    "id": "Fe6thEnJgZKp"
   },
   "outputs": [],
   "source": [
    "Y = pd.get_dummies(df['label']).values"
   ]
  },
  {
   "cell_type": "code",
   "execution_count": 7,
   "metadata": {
    "colab": {
     "base_uri": "https://localhost:8080/"
    },
    "id": "JIfXoGCzga6O",
    "outputId": "46512077-3eb1-4f3c-f00a-0763e3c11fbf"
   },
   "outputs": [
    {
     "data": {
      "text/plain": [
       "(320000, 2)"
      ]
     },
     "execution_count": 7,
     "metadata": {},
     "output_type": "execute_result"
    }
   ],
   "source": [
    "Y.shape"
   ]
  },
  {
   "cell_type": "code",
   "execution_count": 8,
   "metadata": {
    "id": "EkAoay4ggsXq"
   },
   "outputs": [],
   "source": [
    "from sklearn.preprocessing import MinMaxScaler\n",
    "scaler = MinMaxScaler()\n",
    "scaler.fit(X)\n",
    "normalized_x = scaler.transform(X)\n",
    "scaler.fit(Y)\n",
    "normalized_y = scaler.transform(Y)"
   ]
  },
  {
   "cell_type": "code",
   "execution_count": 9,
   "metadata": {
    "id": "PrnSnSROhPDc"
   },
   "outputs": [],
   "source": [
    "from sklearn.model_selection import train_test_split"
   ]
  },
  {
   "cell_type": "code",
   "execution_count": 10,
   "metadata": {
    "id": "zTsAOZPwhECG"
   },
   "outputs": [],
   "source": [
    "X_train, X_test, Y_train, Y_test = train_test_split(normalized_x, normalized_y, random_state=10, test_size=0.2)"
   ]
  },
  {
   "cell_type": "code",
   "execution_count": 11,
   "metadata": {
    "id": "GFoyoYTGcsUs"
   },
   "outputs": [
    {
     "name": "stdout",
     "output_type": "stream",
     "text": [
      "Epoch [1/100], Loss: 0.5354\n",
      "Epoch [2/100], Loss: 0.5283\n",
      "Epoch [3/100], Loss: 0.5276\n",
      "Epoch [4/100], Loss: 0.5274\n",
      "Epoch [5/100], Loss: 0.5273\n",
      "Epoch [6/100], Loss: 0.5271\n",
      "Epoch [7/100], Loss: 0.5270\n",
      "Epoch [8/100], Loss: 0.5270\n",
      "Epoch [9/100], Loss: 0.5270\n",
      "Epoch [10/100], Loss: 0.5270\n",
      "Epoch [11/100], Loss: 0.5269\n",
      "Epoch [12/100], Loss: 0.5269\n",
      "Epoch [13/100], Loss: 0.5268\n",
      "Epoch [14/100], Loss: 0.5270\n",
      "Epoch [15/100], Loss: 0.5269\n",
      "Epoch [16/100], Loss: 0.5269\n",
      "Epoch [17/100], Loss: 0.5268\n",
      "Epoch [18/100], Loss: 0.5268\n",
      "Epoch [19/100], Loss: 0.5268\n",
      "Epoch [20/100], Loss: 0.5267\n",
      "Epoch [21/100], Loss: 0.5268\n",
      "Epoch [22/100], Loss: 0.5267\n",
      "Epoch [23/100], Loss: 0.5267\n",
      "Epoch [24/100], Loss: 0.5267\n",
      "Epoch [25/100], Loss: 0.5267\n",
      "Epoch [26/100], Loss: 0.5267\n",
      "Epoch [27/100], Loss: 0.5267\n",
      "Epoch [28/100], Loss: 0.5268\n",
      "Epoch [29/100], Loss: 0.5267\n",
      "Epoch [30/100], Loss: 0.5267\n",
      "Epoch [31/100], Loss: 0.5268\n",
      "Epoch [32/100], Loss: 0.5267\n",
      "Epoch [33/100], Loss: 0.5267\n",
      "Epoch [34/100], Loss: 0.5267\n",
      "Epoch [35/100], Loss: 0.5267\n",
      "Epoch [36/100], Loss: 0.5267\n",
      "Epoch [37/100], Loss: 0.5267\n",
      "Epoch [38/100], Loss: 0.5266\n",
      "Epoch [39/100], Loss: 0.5267\n",
      "Epoch [40/100], Loss: 0.5268\n",
      "Epoch [41/100], Loss: 0.5267\n",
      "Epoch [42/100], Loss: 0.5266\n",
      "Epoch [43/100], Loss: 0.5266\n",
      "Epoch [44/100], Loss: 0.5266\n",
      "Epoch [45/100], Loss: 0.5266\n",
      "Epoch [46/100], Loss: 0.5266\n",
      "Epoch [47/100], Loss: 0.5267\n",
      "Epoch [48/100], Loss: 0.5266\n",
      "Epoch [49/100], Loss: 0.5267\n",
      "Epoch [50/100], Loss: 0.5267\n",
      "Epoch [51/100], Loss: 0.5266\n",
      "Epoch [52/100], Loss: 0.5266\n",
      "Epoch [53/100], Loss: 0.5267\n",
      "Epoch [54/100], Loss: 0.5266\n",
      "Epoch [55/100], Loss: 0.5266\n",
      "Epoch [56/100], Loss: 0.5266\n",
      "Epoch [57/100], Loss: 0.5266\n",
      "Epoch [58/100], Loss: 0.5266\n",
      "Epoch [59/100], Loss: 0.5266\n",
      "Epoch [60/100], Loss: 0.5266\n",
      "Epoch [61/100], Loss: 0.5266\n",
      "Epoch [62/100], Loss: 0.5266\n",
      "Epoch [63/100], Loss: 0.5266\n",
      "Epoch [64/100], Loss: 0.5266\n",
      "Epoch [65/100], Loss: 0.5266\n",
      "Epoch [66/100], Loss: 0.5266\n",
      "Epoch [67/100], Loss: 0.5266\n",
      "Epoch [68/100], Loss: 0.5266\n",
      "Epoch [69/100], Loss: 0.5266\n",
      "Epoch [70/100], Loss: 0.5266\n",
      "Epoch [71/100], Loss: 0.5266\n",
      "Epoch [72/100], Loss: 0.5266\n",
      "Epoch [73/100], Loss: 0.5266\n",
      "Epoch [74/100], Loss: 0.5266\n",
      "Epoch [75/100], Loss: 0.5265\n",
      "Epoch [76/100], Loss: 0.5266\n",
      "Epoch [77/100], Loss: 0.5266\n",
      "Epoch [78/100], Loss: 0.5266\n",
      "Epoch [79/100], Loss: 0.5266\n",
      "Epoch [80/100], Loss: 0.5266\n",
      "Epoch [81/100], Loss: 0.5265\n",
      "Epoch [82/100], Loss: 0.5266\n",
      "Epoch [83/100], Loss: 0.5266\n",
      "Epoch [84/100], Loss: 0.5266\n",
      "Epoch [85/100], Loss: 0.5266\n",
      "Epoch [86/100], Loss: 0.5265\n",
      "Epoch [87/100], Loss: 0.5265\n",
      "Epoch [88/100], Loss: 0.5265\n",
      "Epoch [89/100], Loss: 0.5265\n",
      "Epoch [90/100], Loss: 0.5265\n",
      "Epoch [91/100], Loss: 0.5265\n",
      "Epoch [92/100], Loss: 0.5265\n",
      "Epoch [93/100], Loss: 0.5265\n",
      "Epoch [94/100], Loss: 0.5265\n",
      "Epoch [95/100], Loss: 0.5265\n",
      "Epoch [96/100], Loss: 0.5265\n",
      "Epoch [97/100], Loss: 0.5265\n",
      "Epoch [98/100], Loss: 0.5266\n",
      "Epoch [99/100], Loss: 0.5266\n",
      "Epoch [100/100], Loss: 0.5265\n",
      "Accuracy on the validation set: 73.00%\n"
     ]
    }
   ],
   "source": [
    "import torch\n",
    "import torch.nn as nn\n",
    "import torch.optim as optim\n",
    "from sklearn.datasets import make_classification\n",
    "\n",
    "# Convert the data to PyTorch tensors\n",
    "X_train = torch.tensor(X_train, dtype=torch.float32)\n",
    "y_train = torch.tensor(Y_train, dtype=torch.float32)\n",
    "X_val = torch.tensor(X_test, dtype=torch.float32)\n",
    "y_val = torch.tensor(Y_test, dtype=torch.float32)\n",
    "\n",
    "# X_train = X_train.clone().detach()\n",
    "# y_train = y_train.clone().detach()\n",
    "# X_val = X_val.clone().detach()\n",
    "# y_val = y_val.clone().detach()\n",
    "\n",
    "# Create the ResNet model\n",
    "model = ResNet(num_classes=2)\n",
    "\n",
    "# Define the loss function and optimizer\n",
    "criterion = nn.CrossEntropyLoss()\n",
    "optimizer = optim.Adam(model.parameters(), lr=0.001)\n",
    "\n",
    "# Train the model\n",
    "num_epochs = 100\n",
    "batch_size = 32\n",
    "num_batches = len(X_train) // batch_size\n",
    "\n",
    "for epoch in range(num_epochs):\n",
    "    running_loss = 0.0\n",
    "    for i in range(num_batches):\n",
    "        start_idx = i * batch_size\n",
    "        end_idx = (i + 1) * batch_size\n",
    "        inputs = X_train[start_idx:end_idx]\n",
    "        labels = y_train[start_idx:end_idx]\n",
    "        \n",
    "        optimizer.zero_grad()\n",
    "        \n",
    "        outputs = model(inputs)\n",
    "        loss = criterion(outputs, labels)\n",
    "        loss.backward()\n",
    "        optimizer.step()\n",
    "        \n",
    "        running_loss += loss.item()\n",
    "        \n",
    "    epoch_loss = running_loss / num_batches\n",
    "    print('Epoch [{}/{}], Loss: {:.4f}'.format(epoch+1, num_epochs, epoch_loss))\n",
    "\n",
    "# Evaluate the model on the validation set\n",
    "with torch.no_grad():\n",
    "    model.eval()\n",
    "    outputs = model(X_val)\n",
    "    _, predicted = torch.max(outputs.data, 1)\n",
    "    total = y_val.size(0)\n",
    "    _, normal_y_val = torch.max(y_val.data,1)\n",
    "    correct = (predicted == normal_y_val).sum().item()\n",
    "    accuracy = correct / total\n",
    "    print('Accuracy on the validation set: {:.2f}%'.format(accuracy * 100))\n"
   ]
  },
  {
   "cell_type": "code",
   "execution_count": 12,
   "metadata": {},
   "outputs": [],
   "source": [
    "torch.save(model,'resnet_binary.pt')"
   ]
  }
 ],
 "metadata": {
  "colab": {
   "provenance": []
  },
  "kernelspec": {
   "display_name": "Python 3 (ipykernel)",
   "language": "python",
   "name": "python3"
  },
  "language_info": {
   "codemirror_mode": {
    "name": "ipython",
    "version": 3
   },
   "file_extension": ".py",
   "mimetype": "text/x-python",
   "name": "python",
   "nbconvert_exporter": "python",
   "pygments_lexer": "ipython3",
   "version": "3.9.13"
  }
 },
 "nbformat": 4,
 "nbformat_minor": 4
}
