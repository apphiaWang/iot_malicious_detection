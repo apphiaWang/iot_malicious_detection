{
 "cells": [
  {
   "attachments": {},
   "cell_type": "markdown",
   "metadata": {},
   "source": [
    "## Generated simulation data for the data product version 1\n",
    "\n",
    "Read and study the data file."
   ]
  },
  {
   "cell_type": "code",
   "execution_count": 1,
   "metadata": {},
   "outputs": [],
   "source": [
    "# get columns\n",
    "filename = 'conn.log.labeled.raw'\n",
    "f = open(filename, 'r')\n",
    "for i in range(6):\n",
    "    f.readline()\n",
    "columns = f.readline()[7:].strip().split()"
   ]
  },
  {
   "cell_type": "code",
   "execution_count": 8,
   "metadata": {},
   "outputs": [],
   "source": [
    "from datetime import datetime\n",
    "\n",
    "# convert the timestamp to a datetime object in the local timezone\n",
    "import pandas as pd\n",
    "df_c = pd.read_table(filepath_or_buffer=filename, delim_whitespace=True, skiprows=8)\n",
    "df_c.columns = columns\n",
    "df_c = df_c.iloc[:-1 , :]\n",
    "df_c['hour'] = df_c['ts'].apply(lambda t: datetime.fromtimestamp(float(t)).hour)\n",
    "df_c['day'] = df_c['ts'].apply(lambda t: datetime.fromtimestamp(float(t)).day)\n",
    "df_c = df_c[df_c['day'] == 21]"
   ]
  },
  {
   "cell_type": "code",
   "execution_count": 23,
   "metadata": {},
   "outputs": [
    {
     "data": {
      "text/html": [
       "<div>\n",
       "<style scoped>\n",
       "    .dataframe tbody tr th:only-of-type {\n",
       "        vertical-align: middle;\n",
       "    }\n",
       "\n",
       "    .dataframe tbody tr th {\n",
       "        vertical-align: top;\n",
       "    }\n",
       "\n",
       "    .dataframe thead th {\n",
       "        text-align: right;\n",
       "    }\n",
       "</style>\n",
       "<table border=\"1\" class=\"dataframe\">\n",
       "  <thead>\n",
       "    <tr style=\"text-align: right;\">\n",
       "      <th></th>\n",
       "      <th>uid</th>\n",
       "    </tr>\n",
       "    <tr>\n",
       "      <th>detailed-label</th>\n",
       "      <th></th>\n",
       "    </tr>\n",
       "  </thead>\n",
       "  <tbody>\n",
       "    <tr>\n",
       "      <th>-</th>\n",
       "      <td>842</td>\n",
       "    </tr>\n",
       "    <tr>\n",
       "      <th>C&amp;C</th>\n",
       "      <td>2094</td>\n",
       "    </tr>\n",
       "    <tr>\n",
       "      <th>PartOfAHorizontalPortScan</th>\n",
       "      <td>64</td>\n",
       "    </tr>\n",
       "  </tbody>\n",
       "</table>\n",
       "</div>"
      ],
      "text/plain": [
       "                            uid\n",
       "detailed-label                 \n",
       "-                           842\n",
       "C&C                        2094\n",
       "PartOfAHorizontalPortScan    64"
      ]
     },
     "execution_count": 23,
     "metadata": {},
     "output_type": "execute_result"
    }
   ],
   "source": [
    "df = df_c.sample(n = 3000)\n",
    "df.sort_values(by=['ts'])\n",
    "df['date']= df['ts'].apply(lambda t: datetime.fromtimestamp(float(t)))\n",
    "# df[['label','uid']].groupby('label').count()\n",
    "# df[['detailed-label','uid']].groupby('detailed-label').count()\n",
    "\n",
    "# df = df[[\"uid\", \"id.orig_h\", \"id.orig_p\",\"id.resp_h\",\"id.resp_p\",\"ts\",\n",
    "# \"orig_pkts\",\"orig_ip_bytes\",\"proto\",\"service\",\"label\",\"detailed-label\"]]\n",
    "# df.to_csv('simluate_data.csv',index=False )"
   ]
  },
  {
   "cell_type": "code",
   "execution_count": 7,
   "metadata": {},
   "outputs": [],
   "source": [
    "pd.unique(df_c['detailed-label'])\n",
    "df = df_c[df_c['id.orig_h'] == '192.168.100.103']\n",
    "df = df[[\"uid\", \"id.orig_h\", \"id.orig_p\",\"id.resp_h\",\"id.resp_p\",\"ts\",\n",
    "\"orig_pkts\",\"orig_ip_bytes\",\"proto\",\"service\",\"label\",\"detailed-label\"]]\n",
    "df.to_csv('simluate_data.csv',index=False )\n"
   ]
  }
 ],
 "metadata": {
  "kernelspec": {
   "display_name": "Python 3",
   "language": "python",
   "name": "python3"
  },
  "language_info": {
   "codemirror_mode": {
    "name": "ipython",
    "version": 3
   },
   "file_extension": ".py",
   "mimetype": "text/x-python",
   "name": "python",
   "nbconvert_exporter": "python",
   "pygments_lexer": "ipython3",
   "version": "3.8.10"
  },
  "orig_nbformat": 4,
  "vscode": {
   "interpreter": {
    "hash": "caf071e77f15db9b7558d96aac6bca75058ffdc31b448950629db06f5be10829"
   }
  }
 },
 "nbformat": 4,
 "nbformat_minor": 2
}
